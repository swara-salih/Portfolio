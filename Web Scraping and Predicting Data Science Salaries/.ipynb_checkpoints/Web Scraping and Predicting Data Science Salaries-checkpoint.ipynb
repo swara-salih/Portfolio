{
 "cells": [
  {
   "cell_type": "markdown",
   "metadata": {
    "focus": false,
    "id": "69b9a648-bcc7-490d-9f9b-ea244d156bd6"
   },
   "source": [
    "# Web Scraping for Indeed.com & Predicting Salaries"
   ]
  },
  {
   "cell_type": "markdown",
   "metadata": {
    "focus": false,
    "id": "34681254-c802-462f-829d-8894d0772d08"
   },
   "source": [
    "In this project, we will practice two major skills: collecting data by scraping a website and then building a binary classifier.\n",
    "\n",
    "We are going to collect salary information on data science jobs in a variety of markets. Then using the location, title and summary of the job we will attempt to predict the salary of the job. For job posting sites, this would be extraordinarily useful. While most listings DO NOT come with salary information (as you will see in this exercise), being to able extrapolate or predict the expected salaries from other listings can help guide negotiations.\n",
    "\n",
    "Normally, we could use regression for this task; however, we will convert this problem into classification and use a random forest regressor, as well as another classifier of your choice; either logistic regression, SVM, or KNN. \n",
    "\n",
    "- **Question**: Why would we want this to be a classification problem?\n",
    "- **Answer**: While more precision may be better, there is a fair amount of natural variance in job salaries - predicting a range be may be useful.\n",
    "\n",
    "Therefore, the first part of the assignment will be focused on scraping Indeed.com. In the second, we'll focus on using listings with salary information to build a model and predict additional salaries."
   ]
  },
  {
   "cell_type": "markdown",
   "metadata": {
    "focus": false,
    "id": "a948d79c-5527-4c0d-ab23-f5d43ce72056"
   },
   "source": [
    "### Scraping job listings from Indeed.com"
   ]
  },
  {
   "cell_type": "markdown",
   "metadata": {
    "focus": true,
    "id": "7203e0c9-e437-4802-a6ad-7dc464f94436"
   },
   "source": [
    "We will be scraping job listings from Indeed.com using BeautifulSoup. Luckily, Indeed.com is a simple text page where we can easily find relevant entries.\n",
    "\n",
    "First, look at the source of an Indeed.com page: (http://www.indeed.com/jobs?q=data+scientist+%2420%2C000&l=New+York&start=10\")\n",
    "\n",
    "Notice, each job listing is underneath a `div` tag with a class name of `result`. We can use BeautifulSoup to extract those. "
   ]
  },
  {
   "cell_type": "markdown",
   "metadata": {},
   "source": [
    "#### Setup a request (using requests) to the URL below. Use BeautifulSoup to parse the page and extract all results (HINT: Look for div tags with class name result)\n",
    "The URL here has many query parameters\n",
    "- q for the job search\n",
    "- This is followed by \"+20,000\" to return results with salaries (or expected salaries >$20,000)\n",
    "- l for a location\n",
    "- start for what result number to start on"
   ]
  },
  {
   "cell_type": "code",
   "execution_count": 2,
   "metadata": {
    "collapsed": true
   },
   "outputs": [],
   "source": [
    "#Using a random forest regressor, with one other classifier. "
   ]
  },
  {
   "cell_type": "code",
   "execution_count": 3,
   "metadata": {
    "collapsed": true
   },
   "outputs": [],
   "source": [
    "url = \"http://www.indeed.com/jobs?q=data+scientist+%2420%2C000&l=New+York&start=10\"\n"
   ]
  },
  {
   "cell_type": "code",
   "execution_count": 4,
   "metadata": {
    "collapsed": true
   },
   "outputs": [],
   "source": [
    "import requests\n",
    "import bs4\n",
    "from bs4 import BeautifulSoup\n",
    "import urllib\n",
    "html = urllib.urlopen(url).read()"
   ]
  },
  {
   "cell_type": "code",
   "execution_count": 5,
   "metadata": {
    "collapsed": true
   },
   "outputs": [],
   "source": [
    "b = BeautifulSoup(html, 'html.parser', from_encoding=\"utf-8\")"
   ]
  },
  {
   "cell_type": "code",
   "execution_count": 6,
   "metadata": {
    "collapsed": false
   },
   "outputs": [],
   "source": [
    "#http://stackoverflow.com/questions/9907492/how-to-get-firefox-working-with-selenium-webdriver-on-mac-osx"
   ]
  },
  {
   "cell_type": "code",
   "execution_count": 7,
   "metadata": {
    "collapsed": false,
    "scrolled": true
   },
   "outputs": [
    {
     "data": {
      "text/plain": [
       "[<span class=\"summary\">Manage, mentor, and grow our team of <b>data</b> <b>scientists</b> and <b>data</b> analysts. 2+ years leading a team of <b>data</b> <b>scientists</b> and or/analysts and a track record of being a...</span>,\n",
       " <span class=\"summary\">KPMG is currently seeking a Manager - Cognitive <b>Data</b> <b>Scientist</b> Natural Language Processing, to join our National Organization....</span>,\n",
       " <span class=\"summary\">A passion for manipulating massive amounts of <b>data</b>. You will also work on our Personalization engine which uses Machine Learning and Big <b>Data</b> technologies to...</span>,\n",
       " <span class=\"summary\" itemprop=\"description\">\\nExperience with big <b>data</b>. Work with partners in <b>Data</b>. The in-depth, statistical &amp; quantitative analyses of consumer <b>data</b>....</span>,\n",
       " <span class=\"summary\" itemprop=\"description\">\\nHands-on programming skills experience with R, Python etc. Experience in machine learning, <b>data</b> mining, and predictive analysis Experience with natural language...</span>,\n",
       " <span class=\"summary\" itemprop=\"description\">\\nBe part of a team of <b>Data</b> <b>Scientists</b> that focus on the design and execution of advanced analytical <b>data</b> exploration, mining, inference, models and systems...</span>,\n",
       " <span class=\"summary\" itemprop=\"description\">\\n(JPMIS) is a new group considering ways to transform our <b>data</b> assets into opportunities for JPMorgan Chase by leveraging the vast amount of proprietary <b>data</b>...</span>,\n",
       " <span class=\"summary\" itemprop=\"description\">\\nIntegral Ad Science is seeking <b>Data</b> <b>Scientist</b> to work on challenging fundamental <b>data</b> science problems in online advertising;...</span>,\n",
       " <span class=\"summary\" itemprop=\"description\">\\nCustomer Graph Digital <b>Data</b> <b>Scientist</b>. We are currently looking for a <b>data</b> <b>scientist</b> that has extensive theoretical and practical experience implementing graph...</span>,\n",
       " <span class=\"summary\" itemprop=\"description\">\\n<b>Data</b> <b>Scientists</b> analyze PlaceIQ hyperlocal <b>data</b> sources to develop accurate predictions of audience and behavior....</span>,\n",
       " <span class=\"summary\" itemprop=\"description\">\\nAND/ORUtilizes <b>data</b> wrangling/<b>data</b> matching/ETL techniques while programming in several languages to explore a variety of <b>data</b> sources, gain <b>data</b> expertise,...</span>,\n",
       " <span class=\"summary\" itemprop=\"description\">\\nExperience with <b>data</b> visualization (e.g. As well as third-party <b>data</b> partners. Tests new statistical analysis methods, software and <b>data</b> sources for continual...</span>,\n",
       " <span class=\"summary\" itemprop=\"description\">\\nWe\\u2019re looking for a <b>Data</b> <b>Scientist</b> to join our Analytics team. Deep familiarity with the core concepts, advantages, and tradeoffs of relational and...</span>,\n",
       " <span class=\"summary\">Employees are encouraged and expected to build their expertise as <b>data</b> <b>scientists</b>, and deploy analytics to business problems....</span>,\n",
       " <span class=\"summary\">1-3 years' experience and evidence with real world <b>data</b> wrangling (querying, storing, cleaning, aggregating &amp; summarizing <b>data</b>)....</span>]"
      ]
     },
     "execution_count": 7,
     "metadata": {},
     "output_type": "execute_result"
    }
   ],
   "source": [
    "## YOUR CODE HERE\n",
    "b.find_all('span', {'class','summary'}) "
   ]
  },
  {
   "cell_type": "code",
   "execution_count": 8,
   "metadata": {
    "collapsed": false,
    "scrolled": true
   },
   "outputs": [
    {
     "name": "stdout",
     "output_type": "stream",
     "text": [
      "Manage, mentor, and grow our team of data scientists and data analysts. 2+ years leading a team of data scientists and or/analysts and a track record of being a...\n",
      "KPMG is currently seeking a Manager - Cognitive Data Scientist Natural Language Processing, to join our National Organization....\n",
      "A passion for manipulating massive amounts of data. You will also work on our Personalization engine which uses Machine Learning and Big Data technologies to...\n",
      "\n",
      "Experience with big data. Work with partners in Data. The in-depth, statistical & quantitative analyses of consumer data....\n",
      "\n",
      "Hands-on programming skills experience with R, Python etc. Experience in machine learning, data mining, and predictive analysis Experience with natural language...\n",
      "\n",
      "Be part of a team of Data Scientists that focus on the design and execution of advanced analytical data exploration, mining, inference, models and systems...\n",
      "\n",
      "(JPMIS) is a new group considering ways to transform our data assets into opportunities for JPMorgan Chase by leveraging the vast amount of proprietary data...\n",
      "\n",
      "Integral Ad Science is seeking Data Scientist to work on challenging fundamental data science problems in online advertising;...\n",
      "\n",
      "Customer Graph Digital Data Scientist. We are currently looking for a data scientist that has extensive theoretical and practical experience implementing graph...\n",
      "\n",
      "Data Scientists analyze PlaceIQ hyperlocal data sources to develop accurate predictions of audience and behavior....\n",
      "\n",
      "AND/ORUtilizes data wrangling/data matching/ETL techniques while programming in several languages to explore a variety of data sources, gain data expertise,...\n",
      "\n",
      "Experience with data visualization (e.g. As well as third-party data partners. Tests new statistical analysis methods, software and data sources for continual...\n",
      "\n",
      "We’re looking for a Data Scientist to join our Analytics team. Deep familiarity with the core concepts, advantages, and tradeoffs of relational and...\n",
      "Employees are encouraged and expected to build their expertise as data scientists, and deploy analytics to business problems....\n",
      "1-3 years' experience and evidence with real world data wrangling (querying, storing, cleaning, aggregating & summarizing data)....\n"
     ]
    }
   ],
   "source": [
    "#List of summaries for New York 20,000.\n",
    "for entry in b.find_all('span', {'class','summary'}):\n",
    "    print entry.text"
   ]
  },
  {
   "cell_type": "markdown",
   "metadata": {},
   "source": [
    "Let's look at one result more closely. A single result looks like\n",
    "```JSON\n",
    "<div class=\" row result\" data-jk=\"2480d203f7e97210\" data-tn-component=\"organicJob\" id=\"p_2480d203f7e97210\" itemscope=\"\" itemtype=\"http://schema.org/JobPosting\">\n",
    "<h2 class=\"jobtitle\" id=\"jl_2480d203f7e97210\">\n",
    "<a class=\"turnstileLink\" data-tn-element=\"jobTitle\" onmousedown=\"return rclk(this,jobmap[0],1);\" rel=\"nofollow\" target=\"_blank\" title=\"AVP/Quantitative Analyst\">AVP/Quantitative Analyst</a>\n",
    "</h2>\n",
    "<span class=\"company\" itemprop=\"hiringOrganization\" itemtype=\"http://schema.org/Organization\">\n",
    "<span itemprop=\"name\">\n",
    "<a href=\"/cmp/Alliancebernstein?from=SERP&campaignid=serp-linkcompanyname&fromjk=2480d203f7e97210&jcid=b374f2a780e04789\" target=\"_blank\">\n",
    "    AllianceBernstein</a></span>\n",
    "</span>\n",
    "<tr>\n",
    "<td class=\"snip\">\n",
    "<nobr>$117,500 - $127,500 a year</nobr>\n",
    "<div>\n",
    "<span class=\"summary\" itemprop=\"description\">\n",
    "C onduct quantitative and statistical research as well as portfolio management for various investment portfolios. Collaborate with Quantitative Analysts and</span>\n",
    "</div>\n",
    "</div>\n",
    "</td>\n",
    "</tr>\n",
    "</table>\n",
    "</div>\n",
    "```"
   ]
  },
  {
   "cell_type": "markdown",
   "metadata": {},
   "source": [
    "While this has some more verbose elements removed, we can see that there is some structure to the above:\n",
    "- The salary is available in a nobr element inside of a td element with class='snip.\n",
    "- The title of a job is in a link with class set to jobtitle and a data-tn-element=\"jobTitle.\n",
    "- The location is set in a span with class='location'.\n",
    "- The company is set in a span with class='company'."
   ]
  },
  {
   "cell_type": "markdown",
   "metadata": {},
   "source": [
    "## Write 4 functions to extract each item: location, company, job, and salary.¶\n",
    "Example\n",
    "```python\n",
    "def extract_location_from_result(result):\n",
    "    return result.find ...\n",
    "```\n",
    "\n",
    "##### - Make sure these functions are robust and can handle cases where the data/field may not be available.\n",
    ">- Remember to check if a field is empty or None for attempting to call methods on it\n",
    ">- Remember to use try/except if you anticipate errors.\n",
    "\n",
    "- **Test** the functions on the results above and simple examples"
   ]
  },
  {
   "cell_type": "code",
   "execution_count": 9,
   "metadata": {
    "collapsed": false
   },
   "outputs": [],
   "source": [
    "def extract_job_from_result(result): \n",
    "    url = result \n",
    "    html = urllib.urlopen(url).read()\n",
    "    b = BeautifulSoup(html, 'html.parser', from_encoding=\"utf-8\")\n",
    "    for entry in b.find_all('h2', {'class':'jobtitle'}):\n",
    "        entry.text"
   ]
  },
  {
   "cell_type": "code",
   "execution_count": 10,
   "metadata": {
    "collapsed": false,
    "scrolled": true
   },
   "outputs": [],
   "source": [
    "extract_job_from_result('http://www.indeed.com/jobs?q=data+scientist+%2420%2C000&l=New+York&start=10')"
   ]
  },
  {
   "cell_type": "code",
   "execution_count": 11,
   "metadata": {
    "collapsed": false,
    "scrolled": true
   },
   "outputs": [],
   "source": [
    "def extract_location_from_result(result): \n",
    "    url = result \n",
    "    html = urllib.urlopen(url).read()\n",
    "    b = BeautifulSoup(html, 'html.parser', from_encoding=\"utf-8\")\n",
    "    for entry in b.find_all('span', {'class':'location'}):\n",
    "        entry.text"
   ]
  },
  {
   "cell_type": "code",
   "execution_count": 12,
   "metadata": {
    "collapsed": false,
    "scrolled": true
   },
   "outputs": [],
   "source": [
    "extract_location_from_result('https://www.indeed.com/jobs?q=data+scientist+$20,000&l=New+York&start=10')"
   ]
  },
  {
   "cell_type": "code",
   "execution_count": 13,
   "metadata": {
    "collapsed": false
   },
   "outputs": [],
   "source": [
    "def extract_company_from_result(result):\n",
    "    url = result \n",
    "    html = urllib.urlopen(url).read()\n",
    "    b = BeautifulSoup(html, 'html.parser', from_encoding=\"utf-8\")\n",
    "    for entry in b.find_all('span', {'class':'company'}):\n",
    "        entry.text"
   ]
  },
  {
   "cell_type": "code",
   "execution_count": 14,
   "metadata": {
    "collapsed": false,
    "scrolled": true
   },
   "outputs": [],
   "source": [
    "extract_company_from_result('https://www.indeed.com/jobs?q=data+scientist+$20,000&l=New+York&start=10')"
   ]
  },
  {
   "cell_type": "code",
   "execution_count": 15,
   "metadata": {
    "collapsed": false
   },
   "outputs": [],
   "source": [
    "#The salary is available in a nobr element inside of a td element with class='snip'.\n",
    "def extract_salary_from_result(result):\n",
    "    url = result \n",
    "    html = urllib.urlopen(url).read()\n",
    "    b = BeautifulSoup(html, 'html.parser', from_encoding=\"utf-8\")\n",
    "    for entry in b.find_all('td', {'class':'snip'}):\n",
    "        try:\n",
    "            entry.find('nobr').renderContents()\n",
    "        except:\n",
    "            'NONE LISTED'"
   ]
  },
  {
   "cell_type": "code",
   "execution_count": 16,
   "metadata": {
    "collapsed": false
   },
   "outputs": [],
   "source": [
    "extract_salary_from_result('http://www.indeed.com/jobs?q=data+scientist+%2420%2C000&l=New+York&start=10')"
   ]
  },
  {
   "cell_type": "markdown",
   "metadata": {},
   "source": [
    "Now, to scale up our scraping, we need to accumulate more results. We can do this by examining the URL above.\n",
    "- \"http://www.indeed.com/jobs?q=data+scientist+%2420%2C000&l=New+York&start=10\"\n",
    "\n",
    "There are two query parameters here we can alter to collect more results, the l=New+York and the start=10. The first controls the location of the results (so we can try a different city). The second controls where in the results to start and gives 10 results (thus, we can keep incrementing by 10 to go further in the list).\n",
    "##### Complete the following code to collect results from multiple cities and starting points.\n",
    "- Enter your city below to add it to the search\n",
    "- Remember to convert your salary to U.S. Dollars to match the other cities if the currency is different"
   ]
  },
  {
   "cell_type": "code",
   "execution_count": 17,
   "metadata": {
    "collapsed": true
   },
   "outputs": [],
   "source": [
    "YOUR_CITY = 'Boston'"
   ]
  },
  {
   "cell_type": "code",
   "execution_count": 22,
   "metadata": {
    "collapsed": false
   },
   "outputs": [],
   "source": [
    "url_template = \"http://www.indeed.com/jobs?q=data+scientist+%2420%2C000&l={}&start={}\"\n",
    "max_results_per_city = 10000 # Set this to a high-value (5000) to generate more results. \n",
    "# Crawling more results, will also take much longer. First test your code on a small number of results and then expand.\n",
    "\n",
    "results = []\n",
    "ny = []\n",
    "chic = []\n",
    "sf = []\n",
    "aus = []\n",
    "sea = []\n",
    "la = []\n",
    "phil = []\n",
    "atl = []\n",
    "dal = []\n",
    "pitt = []\n",
    "port = []\n",
    "ph = []\n",
    "den = []\n",
    "hou = []\n",
    "mi = []\n",
    "\n",
    "for city in set(['New+York', 'Chicago', 'San+Francisco', 'Austin', 'Seattle', \n",
    "    'Los+Angeles', 'Philadelphia', 'Atlanta', 'Dallas', 'Pittsburgh', \n",
    "    'Portland', 'Phoenix', 'Denver', 'Houston', 'Miami', YOUR_CITY]):\n",
    "    for start in range(0, max_results_per_city, 10):\n",
    "        # Grab the results from the request (as above)\n",
    "        url = \"http://www.indeed.com/jobs?q=data+scientist+%2420%2C000&l=\" + city +\"&start=\"+ str(start)\n",
    "        # Make a list for each city\n",
    "        if city=='New+York':\n",
    "            ny.append(url)\n",
    "        if city=='Chicago':\n",
    "            chic.append(url)\n",
    "        if city=='San+Francisco':\n",
    "            sf.append(url)\n",
    "        if city=='Austin':\n",
    "            aus.append(url)\n",
    "        if city=='Seattle':\n",
    "            sea.append(url)\n",
    "        if city=='Los+Angeles':\n",
    "            la.append(url)\n",
    "        if city=='Philadelphia':\n",
    "            phil.append(url)\n",
    "        if city=='Atlanta':\n",
    "            atl.append(url)\n",
    "        if city=='Dallas':\n",
    "            dal.append(url)\n",
    "        if city=='Pittsburgh':\n",
    "            pitt.append(url)\n",
    "        if city=='Portland':\n",
    "            port.append(url)\n",
    "        if city=='Philadelphia':\n",
    "            ph.append(url)\n",
    "        if city=='Phoenix':\n",
    "            ph.append(url)\n",
    "        if city=='Denver':\n",
    "            den.append(url)\n",
    "        if city=='Houston':\n",
    "            hou.append(url)\n",
    "       if city=='Miami':\n",
    "            mi.append(url)\n",
    "        # Make a full set of results just in case\n",
    "        results.append(url)\n",
    "        pass"
   ]
  },
  {
   "cell_type": "markdown",
   "metadata": {
    "focus": false,
    "id": "20339c09-5032-4e27-91be-286e9b46cd13"
   },
   "source": [
    "#### Use the functions you wrote above to parse out the 4 fields - location, title, company and salary. Create a dataframe from the results with those 4 columns."
   ]
  },
  {
   "cell_type": "code",
   "execution_count": 34,
   "metadata": {
    "collapsed": false
   },
   "outputs": [],
   "source": [
    "import pandas as pd\n",
    "job_details = pd.DataFrame(columns=['location','title','company', 'salary'])\n",
    "b = BeautifulSoup(html, 'html.parser', from_encoding=\"utf-8\")"
   ]
  },
  {
   "cell_type": "code",
   "execution_count": 39,
   "metadata": {
    "collapsed": false,
    "scrolled": true
   },
   "outputs": [],
   "source": [
    "#Take the overall entry and excract info from there first. \n",
    "for result in results:\n",
    "    url = result \n",
    "    html = urllib.urlopen(url).read()\n",
    "    for entry in b.find_all('div', {'class':' row result'}):\n",
    "        try: \n",
    "            location = b.find('span', {'class':'location'}).text\n",
    "        except: \n",
    "            location = 'NA'\n",
    "        try:\n",
    "            title = b.find('h2', {'class':'jobtitle'}).text\n",
    "        except:\n",
    "            title = 'NA'\n",
    "        try:\n",
    "            company = b.find('span', {'class':'company'}).text\n",
    "        except: \n",
    "            company = 'NA'\n",
    "        \n",
    "        try:\n",
    "            salary = b.find('td', {'class':'snip'}).find('nobr').renderContents()\n",
    "        except:\n",
    "            salary = 'NA'\n",
    "    job_details.loc[len(job_details)]=[location, title, company, salary]    "
   ]
  },
  {
   "cell_type": "markdown",
   "metadata": {
    "focus": false,
    "id": "ff98ce64-78a7-441f-a675-63464e32c834"
   },
   "source": [
    "Lastly, we need to clean up salary data. \n",
    "\n",
    "1. Only a small number of the scraped results have salary information - only these will be used for modeling.\n",
    "1. Some of the salaries are not yearly but hourly or weekly, these will not be useful to us for now\n",
    "1. Some of the entries may be duplicated\n",
    "1. The salaries are given as text and usually with ranges.\n",
    "\n",
    "#### Find the entries with annual salary entries, by filtering the entries without salaries or salaries that are not yearly (filter those that refer to hour or week). Also, remove duplicate entries"
   ]
  },
  {
   "cell_type": "code",
   "execution_count": 51,
   "metadata": {
    "collapsed": false
   },
   "outputs": [],
   "source": [
    "job_details = job_details[job_details.salary != 'NONE LISTED']"
   ]
  },
  {
   "cell_type": "code",
   "execution_count": 53,
   "metadata": {
    "collapsed": false,
    "scrolled": true
   },
   "outputs": [],
   "source": [
    "job_details = job_details.reset_index()"
   ]
  },
  {
   "cell_type": "code",
   "execution_count": 56,
   "metadata": {
    "collapsed": false
   },
   "outputs": [],
   "source": [
    "job_details = job_details.drop('index', 1)"
   ]
  },
  {
   "cell_type": "code",
   "execution_count": 59,
   "metadata": {
    "collapsed": false
   },
   "outputs": [],
   "source": [
    "job_details = job_details.drop('level_0', 1)"
   ]
  },
  {
   "cell_type": "code",
   "execution_count": 61,
   "metadata": {
    "collapsed": false,
    "focus": false,
    "id": "58533e57-f86b-494a-b841-e7b59c6229c6",
    "scrolled": true
   },
   "outputs": [],
   "source": [
    "## YOUR CODE HERE\n",
    "job_details = job_details[job_details.salary.str.contains(\"a month\") == False]\n",
    "job_details = job_details[job_details.salary.str.contains(\"an hour\") == False]\n",
    "job_details = job_details[job_details.salary.str.contains(\"a week\") == False]\n",
    "job_details = job_details[job_details.salary.str.contains(\"a day\") == False]"
   ]
  },
  {
   "cell_type": "code",
   "execution_count": 147,
   "metadata": {
    "collapsed": false,
    "scrolled": true
   },
   "outputs": [
    {
     "data": {
      "text/html": [
       "<div>\n",
       "<table border=\"1\" class=\"dataframe\">\n",
       "  <thead>\n",
       "    <tr style=\"text-align: right;\">\n",
       "      <th></th>\n",
       "      <th>location</th>\n",
       "      <th>title</th>\n",
       "      <th>company</th>\n",
       "      <th>salary</th>\n",
       "    </tr>\n",
       "  </thead>\n",
       "  <tbody>\n",
       "    <tr>\n",
       "      <th>0</th>\n",
       "      <td>Boston, MA</td>\n",
       "      <td>SAS Statistical Data Analyst-Healthcare Marketing</td>\n",
       "      <td>ALC Staffing Associates</td>\n",
       "      <td>70000 75000</td>\n",
       "    </tr>\n",
       "    <tr>\n",
       "      <th>1</th>\n",
       "      <td>Boston, MA</td>\n",
       "      <td>SAS Program / Statistical Analyst-Data Mining</td>\n",
       "      <td>Alexander Bec</td>\n",
       "      <td>75000</td>\n",
       "    </tr>\n",
       "    <tr>\n",
       "      <th>3</th>\n",
       "      <td>Boston, MA 02108 (Back Bay-Beacon Hill area)</td>\n",
       "      <td>Data Analyst</td>\n",
       "      <td>Infotek Consulting Services Inc.</td>\n",
       "      <td>100000 110000</td>\n",
       "    </tr>\n",
       "    <tr>\n",
       "      <th>5</th>\n",
       "      <td>Cambridge, MA</td>\n",
       "      <td>Front-End Developer - JavaScript/HTML5 for EdT...</td>\n",
       "      <td>The Bivium Group</td>\n",
       "      <td>75000 130000</td>\n",
       "    </tr>\n",
       "    <tr>\n",
       "      <th>6</th>\n",
       "      <td>Cambridge, MA</td>\n",
       "      <td>Front-End Developer - JavaScript/HTML5 for EdT...</td>\n",
       "      <td>The Bivium Group</td>\n",
       "      <td>75000 130000</td>\n",
       "    </tr>\n",
       "    <tr>\n",
       "      <th>7</th>\n",
       "      <td>Houston, TX</td>\n",
       "      <td>Quantitative Risk Analyst</td>\n",
       "      <td>SearchBankingJobs</td>\n",
       "      <td>150000 205000</td>\n",
       "    </tr>\n",
       "    <tr>\n",
       "      <th>9</th>\n",
       "      <td>Lexington, MA 02420</td>\n",
       "      <td>Statistical Programmer</td>\n",
       "      <td>BioPier Inc.</td>\n",
       "      <td>60000 120000</td>\n",
       "    </tr>\n",
       "    <tr>\n",
       "      <th>11</th>\n",
       "      <td>Boston, MA 02116 (South End area)</td>\n",
       "      <td>Back End Java Developer-Machine Learning</td>\n",
       "      <td>Jobspring Partners</td>\n",
       "      <td>130000</td>\n",
       "    </tr>\n",
       "    <tr>\n",
       "      <th>12</th>\n",
       "      <td>Boston, MA</td>\n",
       "      <td>Spark/Hadoop/Scala at Top Growth Stage Startup</td>\n",
       "      <td>Workbridge Associates</td>\n",
       "      <td>100000 165000</td>\n",
       "    </tr>\n",
       "    <tr>\n",
       "      <th>13</th>\n",
       "      <td>Boston, MA</td>\n",
       "      <td>Principal Software Engineer Lead Software Engi...</td>\n",
       "      <td>The Bivium Group</td>\n",
       "      <td>120000 165000</td>\n",
       "    </tr>\n",
       "    <tr>\n",
       "      <th>14</th>\n",
       "      <td>Boston, MA</td>\n",
       "      <td>Clinical Laboratory Surveyor</td>\n",
       "      <td>Commonwealth of Massachusetts</td>\n",
       "      <td>60096 87045</td>\n",
       "    </tr>\n",
       "    <tr>\n",
       "      <th>15</th>\n",
       "      <td>Houston, TX</td>\n",
       "      <td>Lead Bioinformatics Programmer</td>\n",
       "      <td>Baylor College of Medicine</td>\n",
       "      <td>90000</td>\n",
       "    </tr>\n",
       "    <tr>\n",
       "      <th>16</th>\n",
       "      <td>Quincy, MA 02169</td>\n",
       "      <td>Machine Learning Engineer</td>\n",
       "      <td>NRS Global Partners</td>\n",
       "      <td>95000 120000</td>\n",
       "    </tr>\n",
       "    <tr>\n",
       "      <th>19</th>\n",
       "      <td>Cambridge, MA 02138 (West Cambridge area)</td>\n",
       "      <td>Program Assistant</td>\n",
       "      <td>Union of Concerned Scientists</td>\n",
       "      <td>35000</td>\n",
       "    </tr>\n",
       "    <tr>\n",
       "      <th>20</th>\n",
       "      <td>Boston, MA</td>\n",
       "      <td>Spark/Hadoop/Scala at Top Growth Stage Startup</td>\n",
       "      <td>Workbridge Associates</td>\n",
       "      <td>100000 165000</td>\n",
       "    </tr>\n",
       "    <tr>\n",
       "      <th>21</th>\n",
       "      <td>Boston, MA</td>\n",
       "      <td>Principal Software Engineer Lead Software Engi...</td>\n",
       "      <td>The Bivium Group</td>\n",
       "      <td>120000 165000</td>\n",
       "    </tr>\n",
       "    <tr>\n",
       "      <th>22</th>\n",
       "      <td>Boston, MA</td>\n",
       "      <td>Clinical Laboratory Surveyor</td>\n",
       "      <td>Commonwealth of Massachusetts</td>\n",
       "      <td>60096 87045</td>\n",
       "    </tr>\n",
       "    <tr>\n",
       "      <th>23</th>\n",
       "      <td>Braintree, MA</td>\n",
       "      <td>Inside Sales Representative</td>\n",
       "      <td>PayFactors</td>\n",
       "      <td>70000 90000</td>\n",
       "    </tr>\n",
       "    <tr>\n",
       "      <th>24</th>\n",
       "      <td>Scottsdale, AZ</td>\n",
       "      <td>Web Security Research Analyst</td>\n",
       "      <td>SiteLock</td>\n",
       "      <td>50000 55000</td>\n",
       "    </tr>\n",
       "    <tr>\n",
       "      <th>25</th>\n",
       "      <td>Chicago, IL</td>\n",
       "      <td>Lead Data Scientist</td>\n",
       "      <td>Analytic Recruiting</td>\n",
       "      <td>140000</td>\n",
       "    </tr>\n",
       "    <tr>\n",
       "      <th>26</th>\n",
       "      <td>Chicago, IL</td>\n",
       "      <td>Senior Data Scientist</td>\n",
       "      <td>Selby Jennings</td>\n",
       "      <td>125000 175000</td>\n",
       "    </tr>\n",
       "    <tr>\n",
       "      <th>27</th>\n",
       "      <td>Sausalito, CA 94965</td>\n",
       "      <td>Associate Director of Analytics</td>\n",
       "      <td>Workbridge Associates</td>\n",
       "      <td>150000</td>\n",
       "    </tr>\n",
       "    <tr>\n",
       "      <th>28</th>\n",
       "      <td>San Francisco, CA</td>\n",
       "      <td>Senior Data Science Manager</td>\n",
       "      <td>Harnham</td>\n",
       "      <td>185000</td>\n",
       "    </tr>\n",
       "    <tr>\n",
       "      <th>29</th>\n",
       "      <td>Manhattan, NY</td>\n",
       "      <td>City Research Scientist Bureau of the Public H...</td>\n",
       "      <td>DEPT OF HEALTH/MENTAL HYGIENE</td>\n",
       "      <td>59708 72246</td>\n",
       "    </tr>\n",
       "    <tr>\n",
       "      <th>30</th>\n",
       "      <td>Manhattan, NY</td>\n",
       "      <td>City Research Scientist Bureau of the Public H...</td>\n",
       "      <td>DEPT OF HEALTH/MENTAL HYGIENE</td>\n",
       "      <td>59708 72246</td>\n",
       "    </tr>\n",
       "    <tr>\n",
       "      <th>31</th>\n",
       "      <td>New York, NY</td>\n",
       "      <td>Health Scientist</td>\n",
       "      <td>Centers for Disease Control and Preven...</td>\n",
       "      <td>88305 146570</td>\n",
       "    </tr>\n",
       "    <tr>\n",
       "      <th>32</th>\n",
       "      <td>New York, NY</td>\n",
       "      <td>Technical Researcher</td>\n",
       "      <td>HOUSING PRESERVATION &amp; DVLPMNT</td>\n",
       "      <td>70286</td>\n",
       "    </tr>\n",
       "    <tr>\n",
       "      <th>33</th>\n",
       "      <td>New York, NY</td>\n",
       "      <td>Senior Data Scientist - Bio-tech</td>\n",
       "      <td>Harnham</td>\n",
       "      <td>170000</td>\n",
       "    </tr>\n",
       "    <tr>\n",
       "      <th>34</th>\n",
       "      <td>New York, NY</td>\n",
       "      <td>Quantitative Research Analyst for Multi-Billio...</td>\n",
       "      <td>Averity</td>\n",
       "      <td>150000 200000</td>\n",
       "    </tr>\n",
       "    <tr>\n",
       "      <th>35</th>\n",
       "      <td>New York, NY 10013 (Tribeca area)</td>\n",
       "      <td>Machine Learning Engineer</td>\n",
       "      <td>Workbridge Associates</td>\n",
       "      <td>125000</td>\n",
       "    </tr>\n",
       "    <tr>\n",
       "      <th>...</th>\n",
       "      <td>...</td>\n",
       "      <td>...</td>\n",
       "      <td>...</td>\n",
       "      <td>...</td>\n",
       "    </tr>\n",
       "    <tr>\n",
       "      <th>722</th>\n",
       "      <td>Plano, TX</td>\n",
       "      <td>Genetic Counselor Clinical Genomics</td>\n",
       "      <td>Lighthouse Recruiting</td>\n",
       "      <td>80000 110000</td>\n",
       "    </tr>\n",
       "    <tr>\n",
       "      <th>723</th>\n",
       "      <td>Plano, TX</td>\n",
       "      <td>Genetic Counselor Clinical Genomics</td>\n",
       "      <td>Lighthouse Recruiting</td>\n",
       "      <td>80000 110000</td>\n",
       "    </tr>\n",
       "    <tr>\n",
       "      <th>724</th>\n",
       "      <td>Plano, TX</td>\n",
       "      <td>Genetic Counselor Clinical Genomics</td>\n",
       "      <td>Lighthouse Recruiting</td>\n",
       "      <td>80000 110000</td>\n",
       "    </tr>\n",
       "    <tr>\n",
       "      <th>725</th>\n",
       "      <td>Plano, TX</td>\n",
       "      <td>Genetic Counselor Clinical Genomics</td>\n",
       "      <td>Lighthouse Recruiting</td>\n",
       "      <td>80000 110000</td>\n",
       "    </tr>\n",
       "    <tr>\n",
       "      <th>726</th>\n",
       "      <td>Plano, TX</td>\n",
       "      <td>Genetic Counselor Clinical Genomics</td>\n",
       "      <td>Lighthouse Recruiting</td>\n",
       "      <td>80000 110000</td>\n",
       "    </tr>\n",
       "    <tr>\n",
       "      <th>727</th>\n",
       "      <td>Plano, TX</td>\n",
       "      <td>Genetic Counselor Clinical Genomics</td>\n",
       "      <td>Lighthouse Recruiting</td>\n",
       "      <td>80000 110000</td>\n",
       "    </tr>\n",
       "    <tr>\n",
       "      <th>728</th>\n",
       "      <td>Plano, TX</td>\n",
       "      <td>Genetic Counselor Clinical Genomics</td>\n",
       "      <td>Lighthouse Recruiting</td>\n",
       "      <td>80000 110000</td>\n",
       "    </tr>\n",
       "    <tr>\n",
       "      <th>729</th>\n",
       "      <td>Plano, TX</td>\n",
       "      <td>Genetic Counselor Clinical Genomics</td>\n",
       "      <td>Lighthouse Recruiting</td>\n",
       "      <td>80000 110000</td>\n",
       "    </tr>\n",
       "    <tr>\n",
       "      <th>730</th>\n",
       "      <td>Plano, TX</td>\n",
       "      <td>Genetic Counselor Clinical Genomics</td>\n",
       "      <td>Lighthouse Recruiting</td>\n",
       "      <td>80000 110000</td>\n",
       "    </tr>\n",
       "    <tr>\n",
       "      <th>731</th>\n",
       "      <td>Plano, TX</td>\n",
       "      <td>Genetic Counselor Clinical Genomics</td>\n",
       "      <td>Lighthouse Recruiting</td>\n",
       "      <td>80000 110000</td>\n",
       "    </tr>\n",
       "    <tr>\n",
       "      <th>732</th>\n",
       "      <td>Plano, TX</td>\n",
       "      <td>Genetic Counselor Clinical Genomics</td>\n",
       "      <td>Lighthouse Recruiting</td>\n",
       "      <td>80000 110000</td>\n",
       "    </tr>\n",
       "    <tr>\n",
       "      <th>733</th>\n",
       "      <td>Plano, TX</td>\n",
       "      <td>Genetic Counselor Clinical Genomics</td>\n",
       "      <td>Lighthouse Recruiting</td>\n",
       "      <td>80000 110000</td>\n",
       "    </tr>\n",
       "    <tr>\n",
       "      <th>734</th>\n",
       "      <td>Plano, TX</td>\n",
       "      <td>Genetic Counselor Clinical Genomics</td>\n",
       "      <td>Lighthouse Recruiting</td>\n",
       "      <td>80000 110000</td>\n",
       "    </tr>\n",
       "    <tr>\n",
       "      <th>735</th>\n",
       "      <td>Plano, TX</td>\n",
       "      <td>Genetic Counselor Clinical Genomics</td>\n",
       "      <td>Lighthouse Recruiting</td>\n",
       "      <td>80000 110000</td>\n",
       "    </tr>\n",
       "    <tr>\n",
       "      <th>736</th>\n",
       "      <td>Plano, TX</td>\n",
       "      <td>Genetic Counselor Clinical Genomics</td>\n",
       "      <td>Lighthouse Recruiting</td>\n",
       "      <td>80000 110000</td>\n",
       "    </tr>\n",
       "    <tr>\n",
       "      <th>737</th>\n",
       "      <td>Plano, TX</td>\n",
       "      <td>Genetic Counselor Clinical Genomics</td>\n",
       "      <td>Lighthouse Recruiting</td>\n",
       "      <td>80000 110000</td>\n",
       "    </tr>\n",
       "    <tr>\n",
       "      <th>738</th>\n",
       "      <td>Plano, TX</td>\n",
       "      <td>Genetic Counselor Clinical Genomics</td>\n",
       "      <td>Lighthouse Recruiting</td>\n",
       "      <td>80000 110000</td>\n",
       "    </tr>\n",
       "    <tr>\n",
       "      <th>739</th>\n",
       "      <td>Plano, TX</td>\n",
       "      <td>Genetic Counselor Clinical Genomics</td>\n",
       "      <td>Lighthouse Recruiting</td>\n",
       "      <td>80000 110000</td>\n",
       "    </tr>\n",
       "    <tr>\n",
       "      <th>740</th>\n",
       "      <td>Plano, TX</td>\n",
       "      <td>Genetic Counselor Clinical Genomics</td>\n",
       "      <td>Lighthouse Recruiting</td>\n",
       "      <td>80000 110000</td>\n",
       "    </tr>\n",
       "    <tr>\n",
       "      <th>741</th>\n",
       "      <td>Plano, TX</td>\n",
       "      <td>Genetic Counselor Clinical Genomics</td>\n",
       "      <td>Lighthouse Recruiting</td>\n",
       "      <td>80000 110000</td>\n",
       "    </tr>\n",
       "    <tr>\n",
       "      <th>742</th>\n",
       "      <td>Plano, TX</td>\n",
       "      <td>Genetic Counselor Clinical Genomics</td>\n",
       "      <td>Lighthouse Recruiting</td>\n",
       "      <td>80000 110000</td>\n",
       "    </tr>\n",
       "    <tr>\n",
       "      <th>743</th>\n",
       "      <td>Plano, TX</td>\n",
       "      <td>Genetic Counselor Clinical Genomics</td>\n",
       "      <td>Lighthouse Recruiting</td>\n",
       "      <td>80000 110000</td>\n",
       "    </tr>\n",
       "    <tr>\n",
       "      <th>744</th>\n",
       "      <td>Plano, TX</td>\n",
       "      <td>Genetic Counselor Clinical Genomics</td>\n",
       "      <td>Lighthouse Recruiting</td>\n",
       "      <td>80000 110000</td>\n",
       "    </tr>\n",
       "    <tr>\n",
       "      <th>745</th>\n",
       "      <td>Plano, TX</td>\n",
       "      <td>Genetic Counselor Clinical Genomics</td>\n",
       "      <td>Lighthouse Recruiting</td>\n",
       "      <td>80000 110000</td>\n",
       "    </tr>\n",
       "    <tr>\n",
       "      <th>747</th>\n",
       "      <td>Philadelphia, PA</td>\n",
       "      <td>Quantitative Research Analyst</td>\n",
       "      <td>Liberty Personnel Services</td>\n",
       "      <td>140000</td>\n",
       "    </tr>\n",
       "    <tr>\n",
       "      <th>748</th>\n",
       "      <td>San Fernando, CA</td>\n",
       "      <td>CLS Certifying Scientist (Toxicologist</td>\n",
       "      <td>Lighthouse Recruiting</td>\n",
       "      <td>65000 85000</td>\n",
       "    </tr>\n",
       "    <tr>\n",
       "      <th>749</th>\n",
       "      <td>Atlanta, GA</td>\n",
       "      <td>Lead Quantitative Analyst</td>\n",
       "      <td>SearchBankingJobs</td>\n",
       "      <td>150000 205000</td>\n",
       "    </tr>\n",
       "    <tr>\n",
       "      <th>750</th>\n",
       "      <td>Seattle, WA</td>\n",
       "      <td>Assistant Director Data Science</td>\n",
       "      <td>Liberty Mutual</td>\n",
       "      <td>109900 126100</td>\n",
       "    </tr>\n",
       "    <tr>\n",
       "      <th>751</th>\n",
       "      <td>Seattle, WA</td>\n",
       "      <td>Clinical User Operations</td>\n",
       "      <td>Quartet Health</td>\n",
       "      <td>50000</td>\n",
       "    </tr>\n",
       "    <tr>\n",
       "      <th>752</th>\n",
       "      <td>Seattle, WA</td>\n",
       "      <td>Variant Scientist (Remote</td>\n",
       "      <td>Lighthouse Recruiting</td>\n",
       "      <td>90000 100000</td>\n",
       "    </tr>\n",
       "  </tbody>\n",
       "</table>\n",
       "<p>533 rows × 4 columns</p>\n",
       "</div>"
      ],
      "text/plain": [
       "                                         location  \\\n",
       "0                                      Boston, MA   \n",
       "1                                      Boston, MA   \n",
       "3    Boston, MA 02108 (Back Bay-Beacon Hill area)   \n",
       "5                                   Cambridge, MA   \n",
       "6                                   Cambridge, MA   \n",
       "7                                     Houston, TX   \n",
       "9                             Lexington, MA 02420   \n",
       "11              Boston, MA 02116 (South End area)   \n",
       "12                                     Boston, MA   \n",
       "13                                     Boston, MA   \n",
       "14                                     Boston, MA   \n",
       "15                                    Houston, TX   \n",
       "16                               Quincy, MA 02169   \n",
       "19      Cambridge, MA 02138 (West Cambridge area)   \n",
       "20                                     Boston, MA   \n",
       "21                                     Boston, MA   \n",
       "22                                     Boston, MA   \n",
       "23                                  Braintree, MA   \n",
       "24                                 Scottsdale, AZ   \n",
       "25                                    Chicago, IL   \n",
       "26                                    Chicago, IL   \n",
       "27                            Sausalito, CA 94965   \n",
       "28                              San Francisco, CA   \n",
       "29                                  Manhattan, NY   \n",
       "30                                  Manhattan, NY   \n",
       "31                                   New York, NY   \n",
       "32                                   New York, NY   \n",
       "33                                   New York, NY   \n",
       "34                                   New York, NY   \n",
       "35              New York, NY 10013 (Tribeca area)   \n",
       "..                                            ...   \n",
       "722                                     Plano, TX   \n",
       "723                                     Plano, TX   \n",
       "724                                     Plano, TX   \n",
       "725                                     Plano, TX   \n",
       "726                                     Plano, TX   \n",
       "727                                     Plano, TX   \n",
       "728                                     Plano, TX   \n",
       "729                                     Plano, TX   \n",
       "730                                     Plano, TX   \n",
       "731                                     Plano, TX   \n",
       "732                                     Plano, TX   \n",
       "733                                     Plano, TX   \n",
       "734                                     Plano, TX   \n",
       "735                                     Plano, TX   \n",
       "736                                     Plano, TX   \n",
       "737                                     Plano, TX   \n",
       "738                                     Plano, TX   \n",
       "739                                     Plano, TX   \n",
       "740                                     Plano, TX   \n",
       "741                                     Plano, TX   \n",
       "742                                     Plano, TX   \n",
       "743                                     Plano, TX   \n",
       "744                                     Plano, TX   \n",
       "745                                     Plano, TX   \n",
       "747                              Philadelphia, PA   \n",
       "748                              San Fernando, CA   \n",
       "749                                   Atlanta, GA   \n",
       "750                                   Seattle, WA   \n",
       "751                                   Seattle, WA   \n",
       "752                                   Seattle, WA   \n",
       "\n",
       "                                                 title  \\\n",
       "0    SAS Statistical Data Analyst-Healthcare Marketing   \n",
       "1        SAS Program / Statistical Analyst-Data Mining   \n",
       "3                                         Data Analyst   \n",
       "5    Front-End Developer - JavaScript/HTML5 for EdT...   \n",
       "6    Front-End Developer - JavaScript/HTML5 for EdT...   \n",
       "7                            Quantitative Risk Analyst   \n",
       "9                               Statistical Programmer   \n",
       "11            Back End Java Developer-Machine Learning   \n",
       "12      Spark/Hadoop/Scala at Top Growth Stage Startup   \n",
       "13   Principal Software Engineer Lead Software Engi...   \n",
       "14                        Clinical Laboratory Surveyor   \n",
       "15                      Lead Bioinformatics Programmer   \n",
       "16                           Machine Learning Engineer   \n",
       "19                                   Program Assistant   \n",
       "20      Spark/Hadoop/Scala at Top Growth Stage Startup   \n",
       "21   Principal Software Engineer Lead Software Engi...   \n",
       "22                        Clinical Laboratory Surveyor   \n",
       "23                         Inside Sales Representative   \n",
       "24                       Web Security Research Analyst   \n",
       "25                                 Lead Data Scientist   \n",
       "26                               Senior Data Scientist   \n",
       "27                     Associate Director of Analytics   \n",
       "28                         Senior Data Science Manager   \n",
       "29   City Research Scientist Bureau of the Public H...   \n",
       "30   City Research Scientist Bureau of the Public H...   \n",
       "31                                    Health Scientist   \n",
       "32                                Technical Researcher   \n",
       "33                    Senior Data Scientist - Bio-tech   \n",
       "34   Quantitative Research Analyst for Multi-Billio...   \n",
       "35                           Machine Learning Engineer   \n",
       "..                                                 ...   \n",
       "722                Genetic Counselor Clinical Genomics   \n",
       "723                Genetic Counselor Clinical Genomics   \n",
       "724                Genetic Counselor Clinical Genomics   \n",
       "725                Genetic Counselor Clinical Genomics   \n",
       "726                Genetic Counselor Clinical Genomics   \n",
       "727                Genetic Counselor Clinical Genomics   \n",
       "728                Genetic Counselor Clinical Genomics   \n",
       "729                Genetic Counselor Clinical Genomics   \n",
       "730                Genetic Counselor Clinical Genomics   \n",
       "731                Genetic Counselor Clinical Genomics   \n",
       "732                Genetic Counselor Clinical Genomics   \n",
       "733                Genetic Counselor Clinical Genomics   \n",
       "734                Genetic Counselor Clinical Genomics   \n",
       "735                Genetic Counselor Clinical Genomics   \n",
       "736                Genetic Counselor Clinical Genomics   \n",
       "737                Genetic Counselor Clinical Genomics   \n",
       "738                Genetic Counselor Clinical Genomics   \n",
       "739                Genetic Counselor Clinical Genomics   \n",
       "740                Genetic Counselor Clinical Genomics   \n",
       "741                Genetic Counselor Clinical Genomics   \n",
       "742                Genetic Counselor Clinical Genomics   \n",
       "743                Genetic Counselor Clinical Genomics   \n",
       "744                Genetic Counselor Clinical Genomics   \n",
       "745                Genetic Counselor Clinical Genomics   \n",
       "747                      Quantitative Research Analyst   \n",
       "748             CLS Certifying Scientist (Toxicologist   \n",
       "749                          Lead Quantitative Analyst   \n",
       "750                    Assistant Director Data Science   \n",
       "751                           Clinical User Operations   \n",
       "752                          Variant Scientist (Remote   \n",
       "\n",
       "                                               company         salary  \n",
       "0                              ALC Staffing Associates    70000 75000  \n",
       "1                                        Alexander Bec          75000  \n",
       "3                     Infotek Consulting Services Inc.  100000 110000  \n",
       "5                                     The Bivium Group   75000 130000  \n",
       "6                                     The Bivium Group   75000 130000  \n",
       "7                                    SearchBankingJobs  150000 205000  \n",
       "9                                         BioPier Inc.   60000 120000  \n",
       "11                                  Jobspring Partners         130000  \n",
       "12                               Workbridge Associates  100000 165000  \n",
       "13                                    The Bivium Group  120000 165000  \n",
       "14                       Commonwealth of Massachusetts    60096 87045  \n",
       "15                          Baylor College of Medicine          90000  \n",
       "16                                 NRS Global Partners   95000 120000  \n",
       "19                       Union of Concerned Scientists          35000  \n",
       "20                               Workbridge Associates  100000 165000  \n",
       "21                                    The Bivium Group  120000 165000  \n",
       "22                       Commonwealth of Massachusetts    60096 87045  \n",
       "23                                          PayFactors    70000 90000  \n",
       "24                                            SiteLock    50000 55000  \n",
       "25                                 Analytic Recruiting         140000  \n",
       "26                                      Selby Jennings  125000 175000  \n",
       "27                               Workbridge Associates         150000  \n",
       "28                                             Harnham         185000  \n",
       "29                       DEPT OF HEALTH/MENTAL HYGIENE    59708 72246  \n",
       "30                       DEPT OF HEALTH/MENTAL HYGIENE    59708 72246  \n",
       "31           Centers for Disease Control and Preven...   88305 146570  \n",
       "32                      HOUSING PRESERVATION & DVLPMNT          70286  \n",
       "33                                             Harnham         170000  \n",
       "34                                             Averity  150000 200000  \n",
       "35                               Workbridge Associates         125000  \n",
       "..                                                 ...            ...  \n",
       "722                              Lighthouse Recruiting   80000 110000  \n",
       "723                              Lighthouse Recruiting   80000 110000  \n",
       "724                              Lighthouse Recruiting   80000 110000  \n",
       "725                              Lighthouse Recruiting   80000 110000  \n",
       "726                              Lighthouse Recruiting   80000 110000  \n",
       "727                              Lighthouse Recruiting   80000 110000  \n",
       "728                              Lighthouse Recruiting   80000 110000  \n",
       "729                              Lighthouse Recruiting   80000 110000  \n",
       "730                              Lighthouse Recruiting   80000 110000  \n",
       "731                              Lighthouse Recruiting   80000 110000  \n",
       "732                              Lighthouse Recruiting   80000 110000  \n",
       "733                              Lighthouse Recruiting   80000 110000  \n",
       "734                              Lighthouse Recruiting   80000 110000  \n",
       "735                              Lighthouse Recruiting   80000 110000  \n",
       "736                              Lighthouse Recruiting   80000 110000  \n",
       "737                              Lighthouse Recruiting   80000 110000  \n",
       "738                              Lighthouse Recruiting   80000 110000  \n",
       "739                              Lighthouse Recruiting   80000 110000  \n",
       "740                              Lighthouse Recruiting   80000 110000  \n",
       "741                              Lighthouse Recruiting   80000 110000  \n",
       "742                              Lighthouse Recruiting   80000 110000  \n",
       "743                              Lighthouse Recruiting   80000 110000  \n",
       "744                              Lighthouse Recruiting   80000 110000  \n",
       "745                              Lighthouse Recruiting   80000 110000  \n",
       "747                         Liberty Personnel Services         140000  \n",
       "748                              Lighthouse Recruiting    65000 85000  \n",
       "749                                  SearchBankingJobs  150000 205000  \n",
       "750                                     Liberty Mutual  109900 126100  \n",
       "751                                     Quartet Health          50000  \n",
       "752                              Lighthouse Recruiting   90000 100000  \n",
       "\n",
       "[533 rows x 4 columns]"
      ]
     },
     "execution_count": 147,
     "metadata": {},
     "output_type": "execute_result"
    }
   ],
   "source": [
    "job_details"
   ]
  },
  {
   "cell_type": "markdown",
   "metadata": {
    "focus": false,
    "id": "7d4bc860-b214-4f75-9cd0-b234830b1ec2"
   },
   "source": [
    "#### Write a function that takes a salary string and converts it to a number, averaging a salary range if necessary"
   ]
  },
  {
   "cell_type": "code",
   "execution_count": 63,
   "metadata": {
    "collapsed": true,
    "focus": false,
    "id": "a0f701e0-80bd-40ba-9101-4535860c0968"
   },
   "outputs": [],
   "source": [
    "## YOUR CODE HERE\n",
    "job_details['salary'] = (job_details['salary'].replace( '[\\a year,)]','', regex=True))\n",
    "job_details['salary'] = (job_details['salary'].replace( '[\\$,)]','', regex=True)) \n",
    "job_details['company'] = (job_details['company'].replace( '[\\\\n,)]','', regex=True))\n",
    "job_details['company'] = (job_details['company'].replace( '[\\\\n\\n,)]','', regex=True)) \n",
    "job_details['title'] = (job_details['title'].replace( '[\\\\n,)]','', regex=True))"
   ]
  },
  {
   "cell_type": "code",
   "execution_count": 388,
   "metadata": {
    "collapsed": true
   },
   "outputs": [],
   "source": [
    "#Checkpoint.\n",
    "job_details = all_jobs"
   ]
  },
  {
   "cell_type": "code",
   "execution_count": 390,
   "metadata": {
    "collapsed": false,
    "scrolled": true
   },
   "outputs": [],
   "source": [
    "job_details_2 = job_details.drop_duplicates()\n",
    "#533 results. Left with 34 in total. "
   ]
  },
  {
   "cell_type": "code",
   "execution_count": 392,
   "metadata": {
    "collapsed": true
   },
   "outputs": [],
   "source": [
    "#Need to convert the ranges. "
   ]
  },
  {
   "cell_type": "code",
   "execution_count": 393,
   "metadata": {
    "collapsed": false,
    "scrolled": false
   },
   "outputs": [
    {
     "name": "stderr",
     "output_type": "stream",
     "text": [
      "/Applications/anaconda/lib/python2.7/site-packages/ipykernel/__main__.py:1: SettingWithCopyWarning: \n",
      "A value is trying to be set on a copy of a slice from a DataFrame.\n",
      "Try using .loc[row_indexer,col_indexer] = value instead\n",
      "\n",
      "See the caveats in the documentation: http://pandas.pydata.org/pandas-docs/stable/indexing.html#indexing-view-versus-copy\n",
      "  if __name__ == '__main__':\n"
     ]
    }
   ],
   "source": [
    "job_details_2['salary'] = (job_details_2['salary'].replace( '[\\-,)]',' ', regex=True))  "
   ]
  },
  {
   "cell_type": "code",
   "execution_count": 394,
   "metadata": {
    "collapsed": false,
    "scrolled": true
   },
   "outputs": [
    {
     "data": {
      "text/html": [
       "<div>\n",
       "<table border=\"1\" class=\"dataframe\">\n",
       "  <thead>\n",
       "    <tr style=\"text-align: right;\">\n",
       "      <th></th>\n",
       "      <th>index</th>\n",
       "      <th>location</th>\n",
       "      <th>title</th>\n",
       "      <th>company</th>\n",
       "      <th>salary</th>\n",
       "    </tr>\n",
       "  </thead>\n",
       "  <tbody>\n",
       "    <tr>\n",
       "      <th>0</th>\n",
       "      <td>0</td>\n",
       "      <td>Boston, MA</td>\n",
       "      <td>SAS Statistical Data Analyst-Healthcare Marketing</td>\n",
       "      <td>ALC Staffing Associates</td>\n",
       "      <td>70000 75000</td>\n",
       "    </tr>\n",
       "    <tr>\n",
       "      <th>1</th>\n",
       "      <td>1</td>\n",
       "      <td>Boston, MA</td>\n",
       "      <td>SAS Program / Statistical Analyst-Data Mining</td>\n",
       "      <td>Alexander Bec</td>\n",
       "      <td>75000</td>\n",
       "    </tr>\n",
       "    <tr>\n",
       "      <th>2</th>\n",
       "      <td>3</td>\n",
       "      <td>Boston, MA 02108 (Back Bay-Beacon Hill area)</td>\n",
       "      <td>Data Analyst</td>\n",
       "      <td>Infotek Consulting Services Inc.</td>\n",
       "      <td>100000 110000</td>\n",
       "    </tr>\n",
       "    <tr>\n",
       "      <th>3</th>\n",
       "      <td>5</td>\n",
       "      <td>Cambridge, MA</td>\n",
       "      <td>Front-End Developer - JavaScript/HTML5 for EdT...</td>\n",
       "      <td>The Bivium Group</td>\n",
       "      <td>75000 130000</td>\n",
       "    </tr>\n",
       "    <tr>\n",
       "      <th>4</th>\n",
       "      <td>7</td>\n",
       "      <td>Houston, TX</td>\n",
       "      <td>Quantitative Risk Analyst</td>\n",
       "      <td>SearchBankingJobs</td>\n",
       "      <td>150000 205000</td>\n",
       "    </tr>\n",
       "    <tr>\n",
       "      <th>5</th>\n",
       "      <td>9</td>\n",
       "      <td>Lexington, MA 02420</td>\n",
       "      <td>Statistical Programmer</td>\n",
       "      <td>BioPier Inc.</td>\n",
       "      <td>60000 120000</td>\n",
       "    </tr>\n",
       "    <tr>\n",
       "      <th>6</th>\n",
       "      <td>11</td>\n",
       "      <td>Boston, MA 02116 (South End area)</td>\n",
       "      <td>Back End Java Developer-Machine Learning</td>\n",
       "      <td>Jobspring Partners</td>\n",
       "      <td>130000</td>\n",
       "    </tr>\n",
       "    <tr>\n",
       "      <th>7</th>\n",
       "      <td>12</td>\n",
       "      <td>Boston, MA</td>\n",
       "      <td>Spark/Hadoop/Scala at Top Growth Stage Startup</td>\n",
       "      <td>Workbridge Associates</td>\n",
       "      <td>100000 165000</td>\n",
       "    </tr>\n",
       "    <tr>\n",
       "      <th>8</th>\n",
       "      <td>13</td>\n",
       "      <td>Boston, MA</td>\n",
       "      <td>Principal Software Engineer Lead Software Engi...</td>\n",
       "      <td>The Bivium Group</td>\n",
       "      <td>120000 165000</td>\n",
       "    </tr>\n",
       "    <tr>\n",
       "      <th>9</th>\n",
       "      <td>14</td>\n",
       "      <td>Boston, MA</td>\n",
       "      <td>Clinical Laboratory Surveyor</td>\n",
       "      <td>Commonwealth of Massachusetts</td>\n",
       "      <td>60096 87045</td>\n",
       "    </tr>\n",
       "    <tr>\n",
       "      <th>10</th>\n",
       "      <td>15</td>\n",
       "      <td>Houston, TX</td>\n",
       "      <td>Lead Bioinformatics Programmer</td>\n",
       "      <td>Baylor College of Medicine</td>\n",
       "      <td>90000</td>\n",
       "    </tr>\n",
       "    <tr>\n",
       "      <th>11</th>\n",
       "      <td>16</td>\n",
       "      <td>Quincy, MA 02169</td>\n",
       "      <td>Machine Learning Engineer</td>\n",
       "      <td>NRS Global Partners</td>\n",
       "      <td>95000 120000</td>\n",
       "    </tr>\n",
       "    <tr>\n",
       "      <th>12</th>\n",
       "      <td>19</td>\n",
       "      <td>Cambridge, MA 02138 (West Cambridge area)</td>\n",
       "      <td>Program Assistant</td>\n",
       "      <td>Union of Concerned Scientists</td>\n",
       "      <td>35000</td>\n",
       "    </tr>\n",
       "    <tr>\n",
       "      <th>13</th>\n",
       "      <td>23</td>\n",
       "      <td>Braintree, MA</td>\n",
       "      <td>Inside Sales Representative</td>\n",
       "      <td>PayFactors</td>\n",
       "      <td>70000 90000</td>\n",
       "    </tr>\n",
       "    <tr>\n",
       "      <th>14</th>\n",
       "      <td>24</td>\n",
       "      <td>Scottsdale, AZ</td>\n",
       "      <td>Web Security Research Analyst</td>\n",
       "      <td>SiteLock</td>\n",
       "      <td>50000 55000</td>\n",
       "    </tr>\n",
       "    <tr>\n",
       "      <th>15</th>\n",
       "      <td>25</td>\n",
       "      <td>Chicago, IL</td>\n",
       "      <td>Lead Data Scientist</td>\n",
       "      <td>Analytic Recruiting</td>\n",
       "      <td>140000</td>\n",
       "    </tr>\n",
       "    <tr>\n",
       "      <th>16</th>\n",
       "      <td>26</td>\n",
       "      <td>Chicago, IL</td>\n",
       "      <td>Senior Data Scientist</td>\n",
       "      <td>Selby Jennings</td>\n",
       "      <td>125000 175000</td>\n",
       "    </tr>\n",
       "    <tr>\n",
       "      <th>17</th>\n",
       "      <td>27</td>\n",
       "      <td>Sausalito, CA 94965</td>\n",
       "      <td>Associate Director of Analytics</td>\n",
       "      <td>Workbridge Associates</td>\n",
       "      <td>150000</td>\n",
       "    </tr>\n",
       "    <tr>\n",
       "      <th>18</th>\n",
       "      <td>28</td>\n",
       "      <td>San Francisco, CA</td>\n",
       "      <td>Senior Data Science Manager</td>\n",
       "      <td>Harnham</td>\n",
       "      <td>185000</td>\n",
       "    </tr>\n",
       "    <tr>\n",
       "      <th>19</th>\n",
       "      <td>29</td>\n",
       "      <td>Manhattan, NY</td>\n",
       "      <td>City Research Scientist Bureau of the Public H...</td>\n",
       "      <td>DEPT OF HEALTH/MENTAL HYGIENE</td>\n",
       "      <td>59708 72246</td>\n",
       "    </tr>\n",
       "    <tr>\n",
       "      <th>20</th>\n",
       "      <td>31</td>\n",
       "      <td>New York, NY</td>\n",
       "      <td>Health Scientist</td>\n",
       "      <td>Centers for Disease Control and Preven...</td>\n",
       "      <td>88305 146570</td>\n",
       "    </tr>\n",
       "    <tr>\n",
       "      <th>21</th>\n",
       "      <td>32</td>\n",
       "      <td>New York, NY</td>\n",
       "      <td>Technical Researcher</td>\n",
       "      <td>HOUSING PRESERVATION &amp; DVLPMNT</td>\n",
       "      <td>70286</td>\n",
       "    </tr>\n",
       "    <tr>\n",
       "      <th>22</th>\n",
       "      <td>33</td>\n",
       "      <td>New York, NY</td>\n",
       "      <td>Senior Data Scientist - Bio-tech</td>\n",
       "      <td>Harnham</td>\n",
       "      <td>170000</td>\n",
       "    </tr>\n",
       "    <tr>\n",
       "      <th>23</th>\n",
       "      <td>34</td>\n",
       "      <td>New York, NY</td>\n",
       "      <td>Quantitative Research Analyst for Multi-Billio...</td>\n",
       "      <td>Averity</td>\n",
       "      <td>150000 200000</td>\n",
       "    </tr>\n",
       "    <tr>\n",
       "      <th>24</th>\n",
       "      <td>35</td>\n",
       "      <td>New York, NY 10013 (Tribeca area)</td>\n",
       "      <td>Machine Learning Engineer</td>\n",
       "      <td>Workbridge Associates</td>\n",
       "      <td>125000</td>\n",
       "    </tr>\n",
       "    <tr>\n",
       "      <th>25</th>\n",
       "      <td>36</td>\n",
       "      <td>New York, NY 10167 (Midtown area)</td>\n",
       "      <td>FTR Quantitative Risk Analyst</td>\n",
       "      <td>Selby Jennings</td>\n",
       "      <td>90000 180000</td>\n",
       "    </tr>\n",
       "    <tr>\n",
       "      <th>26</th>\n",
       "      <td>37</td>\n",
       "      <td>New York, NY</td>\n",
       "      <td>Senior Statistician for Fortune 500 Company</td>\n",
       "      <td>Averity</td>\n",
       "      <td>100000 120000</td>\n",
       "    </tr>\n",
       "    <tr>\n",
       "      <th>27</th>\n",
       "      <td>251</td>\n",
       "      <td>Plano, TX</td>\n",
       "      <td>Genetic Counselor Clinical Genomics</td>\n",
       "      <td>Lighthouse Recruiting</td>\n",
       "      <td>80000 110000</td>\n",
       "    </tr>\n",
       "    <tr>\n",
       "      <th>28</th>\n",
       "      <td>747</td>\n",
       "      <td>Philadelphia, PA</td>\n",
       "      <td>Quantitative Research Analyst</td>\n",
       "      <td>Liberty Personnel Services</td>\n",
       "      <td>140000</td>\n",
       "    </tr>\n",
       "    <tr>\n",
       "      <th>29</th>\n",
       "      <td>748</td>\n",
       "      <td>San Fernando, CA</td>\n",
       "      <td>CLS Certifying Scientist (Toxicologist</td>\n",
       "      <td>Lighthouse Recruiting</td>\n",
       "      <td>65000 85000</td>\n",
       "    </tr>\n",
       "    <tr>\n",
       "      <th>30</th>\n",
       "      <td>749</td>\n",
       "      <td>Atlanta, GA</td>\n",
       "      <td>Lead Quantitative Analyst</td>\n",
       "      <td>SearchBankingJobs</td>\n",
       "      <td>150000 205000</td>\n",
       "    </tr>\n",
       "    <tr>\n",
       "      <th>31</th>\n",
       "      <td>750</td>\n",
       "      <td>Seattle, WA</td>\n",
       "      <td>Assistant Director Data Science</td>\n",
       "      <td>Liberty Mutual</td>\n",
       "      <td>109900 126100</td>\n",
       "    </tr>\n",
       "    <tr>\n",
       "      <th>32</th>\n",
       "      <td>751</td>\n",
       "      <td>Seattle, WA</td>\n",
       "      <td>Clinical User Operations</td>\n",
       "      <td>Quartet Health</td>\n",
       "      <td>50000</td>\n",
       "    </tr>\n",
       "    <tr>\n",
       "      <th>33</th>\n",
       "      <td>752</td>\n",
       "      <td>Seattle, WA</td>\n",
       "      <td>Variant Scientist (Remote</td>\n",
       "      <td>Lighthouse Recruiting</td>\n",
       "      <td>90000 100000</td>\n",
       "    </tr>\n",
       "  </tbody>\n",
       "</table>\n",
       "</div>"
      ],
      "text/plain": [
       "    index                                      location  \\\n",
       "0       0                                    Boston, MA   \n",
       "1       1                                    Boston, MA   \n",
       "2       3  Boston, MA 02108 (Back Bay-Beacon Hill area)   \n",
       "3       5                                 Cambridge, MA   \n",
       "4       7                                   Houston, TX   \n",
       "5       9                           Lexington, MA 02420   \n",
       "6      11             Boston, MA 02116 (South End area)   \n",
       "7      12                                    Boston, MA   \n",
       "8      13                                    Boston, MA   \n",
       "9      14                                    Boston, MA   \n",
       "10     15                                   Houston, TX   \n",
       "11     16                              Quincy, MA 02169   \n",
       "12     19     Cambridge, MA 02138 (West Cambridge area)   \n",
       "13     23                                 Braintree, MA   \n",
       "14     24                                Scottsdale, AZ   \n",
       "15     25                                   Chicago, IL   \n",
       "16     26                                   Chicago, IL   \n",
       "17     27                           Sausalito, CA 94965   \n",
       "18     28                             San Francisco, CA   \n",
       "19     29                                 Manhattan, NY   \n",
       "20     31                                  New York, NY   \n",
       "21     32                                  New York, NY   \n",
       "22     33                                  New York, NY   \n",
       "23     34                                  New York, NY   \n",
       "24     35             New York, NY 10013 (Tribeca area)   \n",
       "25     36             New York, NY 10167 (Midtown area)   \n",
       "26     37                                  New York, NY   \n",
       "27    251                                     Plano, TX   \n",
       "28    747                              Philadelphia, PA   \n",
       "29    748                              San Fernando, CA   \n",
       "30    749                                   Atlanta, GA   \n",
       "31    750                                   Seattle, WA   \n",
       "32    751                                   Seattle, WA   \n",
       "33    752                                   Seattle, WA   \n",
       "\n",
       "                                                title  \\\n",
       "0   SAS Statistical Data Analyst-Healthcare Marketing   \n",
       "1       SAS Program / Statistical Analyst-Data Mining   \n",
       "2                                        Data Analyst   \n",
       "3   Front-End Developer - JavaScript/HTML5 for EdT...   \n",
       "4                           Quantitative Risk Analyst   \n",
       "5                              Statistical Programmer   \n",
       "6            Back End Java Developer-Machine Learning   \n",
       "7      Spark/Hadoop/Scala at Top Growth Stage Startup   \n",
       "8   Principal Software Engineer Lead Software Engi...   \n",
       "9                        Clinical Laboratory Surveyor   \n",
       "10                     Lead Bioinformatics Programmer   \n",
       "11                          Machine Learning Engineer   \n",
       "12                                  Program Assistant   \n",
       "13                        Inside Sales Representative   \n",
       "14                      Web Security Research Analyst   \n",
       "15                                Lead Data Scientist   \n",
       "16                              Senior Data Scientist   \n",
       "17                    Associate Director of Analytics   \n",
       "18                        Senior Data Science Manager   \n",
       "19  City Research Scientist Bureau of the Public H...   \n",
       "20                                   Health Scientist   \n",
       "21                               Technical Researcher   \n",
       "22                   Senior Data Scientist - Bio-tech   \n",
       "23  Quantitative Research Analyst for Multi-Billio...   \n",
       "24                          Machine Learning Engineer   \n",
       "25                      FTR Quantitative Risk Analyst   \n",
       "26        Senior Statistician for Fortune 500 Company   \n",
       "27                Genetic Counselor Clinical Genomics   \n",
       "28                      Quantitative Research Analyst   \n",
       "29             CLS Certifying Scientist (Toxicologist   \n",
       "30                          Lead Quantitative Analyst   \n",
       "31                    Assistant Director Data Science   \n",
       "32                           Clinical User Operations   \n",
       "33                          Variant Scientist (Remote   \n",
       "\n",
       "                                              company         salary  \n",
       "0                             ALC Staffing Associates    70000 75000  \n",
       "1                                       Alexander Bec          75000  \n",
       "2                    Infotek Consulting Services Inc.  100000 110000  \n",
       "3                                    The Bivium Group   75000 130000  \n",
       "4                                   SearchBankingJobs  150000 205000  \n",
       "5                                        BioPier Inc.   60000 120000  \n",
       "6                                  Jobspring Partners         130000  \n",
       "7                               Workbridge Associates  100000 165000  \n",
       "8                                    The Bivium Group  120000 165000  \n",
       "9                       Commonwealth of Massachusetts    60096 87045  \n",
       "10                         Baylor College of Medicine          90000  \n",
       "11                                NRS Global Partners   95000 120000  \n",
       "12                      Union of Concerned Scientists          35000  \n",
       "13                                         PayFactors    70000 90000  \n",
       "14                                           SiteLock    50000 55000  \n",
       "15                                Analytic Recruiting         140000  \n",
       "16                                     Selby Jennings  125000 175000  \n",
       "17                              Workbridge Associates         150000  \n",
       "18                                            Harnham         185000  \n",
       "19                      DEPT OF HEALTH/MENTAL HYGIENE    59708 72246  \n",
       "20          Centers for Disease Control and Preven...   88305 146570  \n",
       "21                     HOUSING PRESERVATION & DVLPMNT          70286  \n",
       "22                                            Harnham         170000  \n",
       "23                                            Averity  150000 200000  \n",
       "24                              Workbridge Associates         125000  \n",
       "25                                     Selby Jennings   90000 180000  \n",
       "26                                            Averity  100000 120000  \n",
       "27                              Lighthouse Recruiting   80000 110000  \n",
       "28                         Liberty Personnel Services         140000  \n",
       "29                              Lighthouse Recruiting    65000 85000  \n",
       "30                                  SearchBankingJobs  150000 205000  \n",
       "31                                     Liberty Mutual  109900 126100  \n",
       "32                                     Quartet Health          50000  \n",
       "33                              Lighthouse Recruiting   90000 100000  "
      ]
     },
     "execution_count": 394,
     "metadata": {},
     "output_type": "execute_result"
    }
   ],
   "source": [
    "job_details_2.reset_index()"
   ]
  },
  {
   "cell_type": "code",
   "execution_count": 395,
   "metadata": {
    "collapsed": false,
    "scrolled": true
   },
   "outputs": [],
   "source": [
    "salaries = job_details_2.salary.str.split(' ', expand=True)"
   ]
  },
  {
   "cell_type": "code",
   "execution_count": 397,
   "metadata": {
    "collapsed": false,
    "scrolled": true
   },
   "outputs": [],
   "source": [
    "salaries = salaries.astype(float)"
   ]
  },
  {
   "cell_type": "code",
   "execution_count": 398,
   "metadata": {
    "collapsed": false,
    "scrolled": false
   },
   "outputs": [
    {
     "data": {
      "text/plain": [
       "0    float64\n",
       "1    float64\n",
       "dtype: object"
      ]
     },
     "execution_count": 398,
     "metadata": {},
     "output_type": "execute_result"
    }
   ],
   "source": [
    "salaries.dtypes"
   ]
  },
  {
   "cell_type": "code",
   "execution_count": 399,
   "metadata": {
    "collapsed": true
   },
   "outputs": [],
   "source": [
    "salaries = salaries.rename(columns = {0:'salary_1', 1:'salary_2'})"
   ]
  },
  {
   "cell_type": "code",
   "execution_count": 401,
   "metadata": {
    "collapsed": false,
    "scrolled": true
   },
   "outputs": [],
   "source": [
    "salaries.salary_2 = salaries.salary_2.fillna(salaries.salary_1)"
   ]
  },
  {
   "cell_type": "code",
   "execution_count": 403,
   "metadata": {
    "collapsed": false,
    "scrolled": true
   },
   "outputs": [],
   "source": [
    "final_salary = salaries.median(axis=1)"
   ]
  },
  {
   "cell_type": "code",
   "execution_count": 404,
   "metadata": {
    "collapsed": false,
    "scrolled": true
   },
   "outputs": [],
   "source": [
    "final_salary = pd.DataFrame(final_salary)"
   ]
  },
  {
   "cell_type": "code",
   "execution_count": 412,
   "metadata": {
    "collapsed": true
   },
   "outputs": [],
   "source": [
    "final_salary = final_salary.rename(columns = {0:'final_salary'})"
   ]
  },
  {
   "cell_type": "code",
   "execution_count": 413,
   "metadata": {
    "collapsed": false,
    "scrolled": true
   },
   "outputs": [
    {
     "data": {
      "text/html": [
       "<div>\n",
       "<table border=\"1\" class=\"dataframe\">\n",
       "  <thead>\n",
       "    <tr style=\"text-align: right;\">\n",
       "      <th></th>\n",
       "      <th>final_salary</th>\n",
       "    </tr>\n",
       "  </thead>\n",
       "  <tbody>\n",
       "    <tr>\n",
       "      <th>0</th>\n",
       "      <td>72500.0</td>\n",
       "    </tr>\n",
       "    <tr>\n",
       "      <th>1</th>\n",
       "      <td>75000.0</td>\n",
       "    </tr>\n",
       "    <tr>\n",
       "      <th>3</th>\n",
       "      <td>105000.0</td>\n",
       "    </tr>\n",
       "    <tr>\n",
       "      <th>5</th>\n",
       "      <td>102500.0</td>\n",
       "    </tr>\n",
       "    <tr>\n",
       "      <th>7</th>\n",
       "      <td>177500.0</td>\n",
       "    </tr>\n",
       "  </tbody>\n",
       "</table>\n",
       "</div>"
      ],
      "text/plain": [
       "   final_salary\n",
       "0       72500.0\n",
       "1       75000.0\n",
       "3      105000.0\n",
       "5      102500.0\n",
       "7      177500.0"
      ]
     },
     "execution_count": 413,
     "metadata": {},
     "output_type": "execute_result"
    }
   ],
   "source": [
    "final_salary.head()"
   ]
  },
  {
   "cell_type": "code",
   "execution_count": 414,
   "metadata": {
    "collapsed": false,
    "scrolled": true
   },
   "outputs": [],
   "source": [
    "jobs = pd.concat([job_details_2, final_salary], axis=1)"
   ]
  },
  {
   "cell_type": "code",
   "execution_count": 415,
   "metadata": {
    "collapsed": false,
    "scrolled": true
   },
   "outputs": [],
   "source": [
    "jobs = jobs.drop('salary', axis=1)"
   ]
  },
  {
   "cell_type": "code",
   "execution_count": 416,
   "metadata": {
    "collapsed": false,
    "scrolled": true
   },
   "outputs": [
    {
     "data": {
      "text/html": [
       "<div>\n",
       "<table border=\"1\" class=\"dataframe\">\n",
       "  <thead>\n",
       "    <tr style=\"text-align: right;\">\n",
       "      <th></th>\n",
       "      <th>location</th>\n",
       "      <th>title</th>\n",
       "      <th>company</th>\n",
       "      <th>final_salary</th>\n",
       "    </tr>\n",
       "  </thead>\n",
       "  <tbody>\n",
       "    <tr>\n",
       "      <th>0</th>\n",
       "      <td>Boston, MA</td>\n",
       "      <td>SAS Statistical Data Analyst-Healthcare Marketing</td>\n",
       "      <td>ALC Staffing Associates</td>\n",
       "      <td>72500.0</td>\n",
       "    </tr>\n",
       "    <tr>\n",
       "      <th>1</th>\n",
       "      <td>Boston, MA</td>\n",
       "      <td>SAS Program / Statistical Analyst-Data Mining</td>\n",
       "      <td>Alexander Bec</td>\n",
       "      <td>75000.0</td>\n",
       "    </tr>\n",
       "    <tr>\n",
       "      <th>3</th>\n",
       "      <td>Boston, MA 02108 (Back Bay-Beacon Hill area)</td>\n",
       "      <td>Data Analyst</td>\n",
       "      <td>Infotek Consulting Services Inc.</td>\n",
       "      <td>105000.0</td>\n",
       "    </tr>\n",
       "    <tr>\n",
       "      <th>5</th>\n",
       "      <td>Cambridge, MA</td>\n",
       "      <td>Front-End Developer - JavaScript/HTML5 for EdT...</td>\n",
       "      <td>The Bivium Group</td>\n",
       "      <td>102500.0</td>\n",
       "    </tr>\n",
       "    <tr>\n",
       "      <th>7</th>\n",
       "      <td>Houston, TX</td>\n",
       "      <td>Quantitative Risk Analyst</td>\n",
       "      <td>SearchBankingJobs</td>\n",
       "      <td>177500.0</td>\n",
       "    </tr>\n",
       "    <tr>\n",
       "      <th>9</th>\n",
       "      <td>Lexington, MA 02420</td>\n",
       "      <td>Statistical Programmer</td>\n",
       "      <td>BioPier Inc.</td>\n",
       "      <td>90000.0</td>\n",
       "    </tr>\n",
       "    <tr>\n",
       "      <th>11</th>\n",
       "      <td>Boston, MA 02116 (South End area)</td>\n",
       "      <td>Back End Java Developer-Machine Learning</td>\n",
       "      <td>Jobspring Partners</td>\n",
       "      <td>130000.0</td>\n",
       "    </tr>\n",
       "    <tr>\n",
       "      <th>12</th>\n",
       "      <td>Boston, MA</td>\n",
       "      <td>Spark/Hadoop/Scala at Top Growth Stage Startup</td>\n",
       "      <td>Workbridge Associates</td>\n",
       "      <td>132500.0</td>\n",
       "    </tr>\n",
       "    <tr>\n",
       "      <th>13</th>\n",
       "      <td>Boston, MA</td>\n",
       "      <td>Principal Software Engineer Lead Software Engi...</td>\n",
       "      <td>The Bivium Group</td>\n",
       "      <td>142500.0</td>\n",
       "    </tr>\n",
       "    <tr>\n",
       "      <th>14</th>\n",
       "      <td>Boston, MA</td>\n",
       "      <td>Clinical Laboratory Surveyor</td>\n",
       "      <td>Commonwealth of Massachusetts</td>\n",
       "      <td>73570.5</td>\n",
       "    </tr>\n",
       "    <tr>\n",
       "      <th>15</th>\n",
       "      <td>Houston, TX</td>\n",
       "      <td>Lead Bioinformatics Programmer</td>\n",
       "      <td>Baylor College of Medicine</td>\n",
       "      <td>90000.0</td>\n",
       "    </tr>\n",
       "    <tr>\n",
       "      <th>16</th>\n",
       "      <td>Quincy, MA 02169</td>\n",
       "      <td>Machine Learning Engineer</td>\n",
       "      <td>NRS Global Partners</td>\n",
       "      <td>107500.0</td>\n",
       "    </tr>\n",
       "    <tr>\n",
       "      <th>19</th>\n",
       "      <td>Cambridge, MA 02138 (West Cambridge area)</td>\n",
       "      <td>Program Assistant</td>\n",
       "      <td>Union of Concerned Scientists</td>\n",
       "      <td>35000.0</td>\n",
       "    </tr>\n",
       "    <tr>\n",
       "      <th>23</th>\n",
       "      <td>Braintree, MA</td>\n",
       "      <td>Inside Sales Representative</td>\n",
       "      <td>PayFactors</td>\n",
       "      <td>80000.0</td>\n",
       "    </tr>\n",
       "    <tr>\n",
       "      <th>24</th>\n",
       "      <td>Scottsdale, AZ</td>\n",
       "      <td>Web Security Research Analyst</td>\n",
       "      <td>SiteLock</td>\n",
       "      <td>52500.0</td>\n",
       "    </tr>\n",
       "    <tr>\n",
       "      <th>25</th>\n",
       "      <td>Chicago, IL</td>\n",
       "      <td>Lead Data Scientist</td>\n",
       "      <td>Analytic Recruiting</td>\n",
       "      <td>140000.0</td>\n",
       "    </tr>\n",
       "    <tr>\n",
       "      <th>26</th>\n",
       "      <td>Chicago, IL</td>\n",
       "      <td>Senior Data Scientist</td>\n",
       "      <td>Selby Jennings</td>\n",
       "      <td>150000.0</td>\n",
       "    </tr>\n",
       "    <tr>\n",
       "      <th>27</th>\n",
       "      <td>Sausalito, CA 94965</td>\n",
       "      <td>Associate Director of Analytics</td>\n",
       "      <td>Workbridge Associates</td>\n",
       "      <td>150000.0</td>\n",
       "    </tr>\n",
       "    <tr>\n",
       "      <th>28</th>\n",
       "      <td>San Francisco, CA</td>\n",
       "      <td>Senior Data Science Manager</td>\n",
       "      <td>Harnham</td>\n",
       "      <td>185000.0</td>\n",
       "    </tr>\n",
       "    <tr>\n",
       "      <th>29</th>\n",
       "      <td>Manhattan, NY</td>\n",
       "      <td>City Research Scientist Bureau of the Public H...</td>\n",
       "      <td>DEPT OF HEALTH/MENTAL HYGIENE</td>\n",
       "      <td>65977.0</td>\n",
       "    </tr>\n",
       "    <tr>\n",
       "      <th>31</th>\n",
       "      <td>New York, NY</td>\n",
       "      <td>Health Scientist</td>\n",
       "      <td>Centers for Disease Control and Preven...</td>\n",
       "      <td>117437.5</td>\n",
       "    </tr>\n",
       "    <tr>\n",
       "      <th>32</th>\n",
       "      <td>New York, NY</td>\n",
       "      <td>Technical Researcher</td>\n",
       "      <td>HOUSING PRESERVATION &amp; DVLPMNT</td>\n",
       "      <td>70286.0</td>\n",
       "    </tr>\n",
       "    <tr>\n",
       "      <th>33</th>\n",
       "      <td>New York, NY</td>\n",
       "      <td>Senior Data Scientist - Bio-tech</td>\n",
       "      <td>Harnham</td>\n",
       "      <td>170000.0</td>\n",
       "    </tr>\n",
       "    <tr>\n",
       "      <th>34</th>\n",
       "      <td>New York, NY</td>\n",
       "      <td>Quantitative Research Analyst for Multi-Billio...</td>\n",
       "      <td>Averity</td>\n",
       "      <td>175000.0</td>\n",
       "    </tr>\n",
       "    <tr>\n",
       "      <th>35</th>\n",
       "      <td>New York, NY 10013 (Tribeca area)</td>\n",
       "      <td>Machine Learning Engineer</td>\n",
       "      <td>Workbridge Associates</td>\n",
       "      <td>125000.0</td>\n",
       "    </tr>\n",
       "    <tr>\n",
       "      <th>36</th>\n",
       "      <td>New York, NY 10167 (Midtown area)</td>\n",
       "      <td>FTR Quantitative Risk Analyst</td>\n",
       "      <td>Selby Jennings</td>\n",
       "      <td>135000.0</td>\n",
       "    </tr>\n",
       "    <tr>\n",
       "      <th>37</th>\n",
       "      <td>New York, NY</td>\n",
       "      <td>Senior Statistician for Fortune 500 Company</td>\n",
       "      <td>Averity</td>\n",
       "      <td>110000.0</td>\n",
       "    </tr>\n",
       "    <tr>\n",
       "      <th>251</th>\n",
       "      <td>Plano, TX</td>\n",
       "      <td>Genetic Counselor Clinical Genomics</td>\n",
       "      <td>Lighthouse Recruiting</td>\n",
       "      <td>95000.0</td>\n",
       "    </tr>\n",
       "    <tr>\n",
       "      <th>747</th>\n",
       "      <td>Philadelphia, PA</td>\n",
       "      <td>Quantitative Research Analyst</td>\n",
       "      <td>Liberty Personnel Services</td>\n",
       "      <td>140000.0</td>\n",
       "    </tr>\n",
       "    <tr>\n",
       "      <th>748</th>\n",
       "      <td>San Fernando, CA</td>\n",
       "      <td>CLS Certifying Scientist (Toxicologist</td>\n",
       "      <td>Lighthouse Recruiting</td>\n",
       "      <td>75000.0</td>\n",
       "    </tr>\n",
       "    <tr>\n",
       "      <th>749</th>\n",
       "      <td>Atlanta, GA</td>\n",
       "      <td>Lead Quantitative Analyst</td>\n",
       "      <td>SearchBankingJobs</td>\n",
       "      <td>177500.0</td>\n",
       "    </tr>\n",
       "    <tr>\n",
       "      <th>750</th>\n",
       "      <td>Seattle, WA</td>\n",
       "      <td>Assistant Director Data Science</td>\n",
       "      <td>Liberty Mutual</td>\n",
       "      <td>118000.0</td>\n",
       "    </tr>\n",
       "    <tr>\n",
       "      <th>751</th>\n",
       "      <td>Seattle, WA</td>\n",
       "      <td>Clinical User Operations</td>\n",
       "      <td>Quartet Health</td>\n",
       "      <td>50000.0</td>\n",
       "    </tr>\n",
       "    <tr>\n",
       "      <th>752</th>\n",
       "      <td>Seattle, WA</td>\n",
       "      <td>Variant Scientist (Remote</td>\n",
       "      <td>Lighthouse Recruiting</td>\n",
       "      <td>95000.0</td>\n",
       "    </tr>\n",
       "  </tbody>\n",
       "</table>\n",
       "</div>"
      ],
      "text/plain": [
       "                                         location  \\\n",
       "0                                      Boston, MA   \n",
       "1                                      Boston, MA   \n",
       "3    Boston, MA 02108 (Back Bay-Beacon Hill area)   \n",
       "5                                   Cambridge, MA   \n",
       "7                                     Houston, TX   \n",
       "9                             Lexington, MA 02420   \n",
       "11              Boston, MA 02116 (South End area)   \n",
       "12                                     Boston, MA   \n",
       "13                                     Boston, MA   \n",
       "14                                     Boston, MA   \n",
       "15                                    Houston, TX   \n",
       "16                               Quincy, MA 02169   \n",
       "19      Cambridge, MA 02138 (West Cambridge area)   \n",
       "23                                  Braintree, MA   \n",
       "24                                 Scottsdale, AZ   \n",
       "25                                    Chicago, IL   \n",
       "26                                    Chicago, IL   \n",
       "27                            Sausalito, CA 94965   \n",
       "28                              San Francisco, CA   \n",
       "29                                  Manhattan, NY   \n",
       "31                                   New York, NY   \n",
       "32                                   New York, NY   \n",
       "33                                   New York, NY   \n",
       "34                                   New York, NY   \n",
       "35              New York, NY 10013 (Tribeca area)   \n",
       "36              New York, NY 10167 (Midtown area)   \n",
       "37                                   New York, NY   \n",
       "251                                     Plano, TX   \n",
       "747                              Philadelphia, PA   \n",
       "748                              San Fernando, CA   \n",
       "749                                   Atlanta, GA   \n",
       "750                                   Seattle, WA   \n",
       "751                                   Seattle, WA   \n",
       "752                                   Seattle, WA   \n",
       "\n",
       "                                                 title  \\\n",
       "0    SAS Statistical Data Analyst-Healthcare Marketing   \n",
       "1        SAS Program / Statistical Analyst-Data Mining   \n",
       "3                                         Data Analyst   \n",
       "5    Front-End Developer - JavaScript/HTML5 for EdT...   \n",
       "7                            Quantitative Risk Analyst   \n",
       "9                               Statistical Programmer   \n",
       "11            Back End Java Developer-Machine Learning   \n",
       "12      Spark/Hadoop/Scala at Top Growth Stage Startup   \n",
       "13   Principal Software Engineer Lead Software Engi...   \n",
       "14                        Clinical Laboratory Surveyor   \n",
       "15                      Lead Bioinformatics Programmer   \n",
       "16                           Machine Learning Engineer   \n",
       "19                                   Program Assistant   \n",
       "23                         Inside Sales Representative   \n",
       "24                       Web Security Research Analyst   \n",
       "25                                 Lead Data Scientist   \n",
       "26                               Senior Data Scientist   \n",
       "27                     Associate Director of Analytics   \n",
       "28                         Senior Data Science Manager   \n",
       "29   City Research Scientist Bureau of the Public H...   \n",
       "31                                    Health Scientist   \n",
       "32                                Technical Researcher   \n",
       "33                    Senior Data Scientist - Bio-tech   \n",
       "34   Quantitative Research Analyst for Multi-Billio...   \n",
       "35                           Machine Learning Engineer   \n",
       "36                       FTR Quantitative Risk Analyst   \n",
       "37         Senior Statistician for Fortune 500 Company   \n",
       "251                Genetic Counselor Clinical Genomics   \n",
       "747                      Quantitative Research Analyst   \n",
       "748             CLS Certifying Scientist (Toxicologist   \n",
       "749                          Lead Quantitative Analyst   \n",
       "750                    Assistant Director Data Science   \n",
       "751                           Clinical User Operations   \n",
       "752                          Variant Scientist (Remote   \n",
       "\n",
       "                                               company  final_salary  \n",
       "0                              ALC Staffing Associates       72500.0  \n",
       "1                                        Alexander Bec       75000.0  \n",
       "3                     Infotek Consulting Services Inc.      105000.0  \n",
       "5                                     The Bivium Group      102500.0  \n",
       "7                                    SearchBankingJobs      177500.0  \n",
       "9                                         BioPier Inc.       90000.0  \n",
       "11                                  Jobspring Partners      130000.0  \n",
       "12                               Workbridge Associates      132500.0  \n",
       "13                                    The Bivium Group      142500.0  \n",
       "14                       Commonwealth of Massachusetts       73570.5  \n",
       "15                          Baylor College of Medicine       90000.0  \n",
       "16                                 NRS Global Partners      107500.0  \n",
       "19                       Union of Concerned Scientists       35000.0  \n",
       "23                                          PayFactors       80000.0  \n",
       "24                                            SiteLock       52500.0  \n",
       "25                                 Analytic Recruiting      140000.0  \n",
       "26                                      Selby Jennings      150000.0  \n",
       "27                               Workbridge Associates      150000.0  \n",
       "28                                             Harnham      185000.0  \n",
       "29                       DEPT OF HEALTH/MENTAL HYGIENE       65977.0  \n",
       "31           Centers for Disease Control and Preven...      117437.5  \n",
       "32                      HOUSING PRESERVATION & DVLPMNT       70286.0  \n",
       "33                                             Harnham      170000.0  \n",
       "34                                             Averity      175000.0  \n",
       "35                               Workbridge Associates      125000.0  \n",
       "36                                      Selby Jennings      135000.0  \n",
       "37                                             Averity      110000.0  \n",
       "251                              Lighthouse Recruiting       95000.0  \n",
       "747                         Liberty Personnel Services      140000.0  \n",
       "748                              Lighthouse Recruiting       75000.0  \n",
       "749                                  SearchBankingJobs      177500.0  \n",
       "750                                     Liberty Mutual      118000.0  \n",
       "751                                     Quartet Health       50000.0  \n",
       "752                              Lighthouse Recruiting       95000.0  "
      ]
     },
     "execution_count": 416,
     "metadata": {},
     "output_type": "execute_result"
    }
   ],
   "source": [
    "jobs"
   ]
  },
  {
   "cell_type": "code",
   "execution_count": 417,
   "metadata": {
    "collapsed": false
   },
   "outputs": [
    {
     "data": {
      "text/plain": [
       "location         object\n",
       "title            object\n",
       "company          object\n",
       "final_salary    float64\n",
       "dtype: object"
      ]
     },
     "execution_count": 417,
     "metadata": {},
     "output_type": "execute_result"
    }
   ],
   "source": [
    "jobs.dtypes"
   ]
  },
  {
   "cell_type": "markdown",
   "metadata": {
    "collapsed": false,
    "focus": false,
    "id": "43e71edd-210e-42b1-9336-70a931f048af"
   },
   "source": [
    "### Save your results as a CSV"
   ]
  },
  {
   "cell_type": "code",
   "execution_count": 418,
   "metadata": {
    "collapsed": false,
    "focus": false,
    "id": "783fd153-28ac-47ab-bfca-27e7c1de95b4",
    "scrolled": false
   },
   "outputs": [],
   "source": [
    "# Export to csv\n",
    "job_details_csv = jobs.to_csv"
   ]
  },
  {
   "cell_type": "code",
   "execution_count": 419,
   "metadata": {
    "collapsed": false,
    "scrolled": true
   },
   "outputs": [
    {
     "data": {
      "text/plain": [
       "<bound method DataFrame.to_csv of                                          location  \\\n",
       "0                                      Boston, MA   \n",
       "1                                      Boston, MA   \n",
       "3    Boston, MA 02108 (Back Bay-Beacon Hill area)   \n",
       "5                                   Cambridge, MA   \n",
       "7                                     Houston, TX   \n",
       "9                             Lexington, MA 02420   \n",
       "11              Boston, MA 02116 (South End area)   \n",
       "12                                     Boston, MA   \n",
       "13                                     Boston, MA   \n",
       "14                                     Boston, MA   \n",
       "15                                    Houston, TX   \n",
       "16                               Quincy, MA 02169   \n",
       "19      Cambridge, MA 02138 (West Cambridge area)   \n",
       "23                                  Braintree, MA   \n",
       "24                                 Scottsdale, AZ   \n",
       "25                                    Chicago, IL   \n",
       "26                                    Chicago, IL   \n",
       "27                            Sausalito, CA 94965   \n",
       "28                              San Francisco, CA   \n",
       "29                                  Manhattan, NY   \n",
       "31                                   New York, NY   \n",
       "32                                   New York, NY   \n",
       "33                                   New York, NY   \n",
       "34                                   New York, NY   \n",
       "35              New York, NY 10013 (Tribeca area)   \n",
       "36              New York, NY 10167 (Midtown area)   \n",
       "37                                   New York, NY   \n",
       "251                                     Plano, TX   \n",
       "747                              Philadelphia, PA   \n",
       "748                              San Fernando, CA   \n",
       "749                                   Atlanta, GA   \n",
       "750                                   Seattle, WA   \n",
       "751                                   Seattle, WA   \n",
       "752                                   Seattle, WA   \n",
       "\n",
       "                                                 title  \\\n",
       "0    SAS Statistical Data Analyst-Healthcare Marketing   \n",
       "1        SAS Program / Statistical Analyst-Data Mining   \n",
       "3                                         Data Analyst   \n",
       "5    Front-End Developer - JavaScript/HTML5 for EdT...   \n",
       "7                            Quantitative Risk Analyst   \n",
       "9                               Statistical Programmer   \n",
       "11            Back End Java Developer-Machine Learning   \n",
       "12      Spark/Hadoop/Scala at Top Growth Stage Startup   \n",
       "13   Principal Software Engineer Lead Software Engi...   \n",
       "14                        Clinical Laboratory Surveyor   \n",
       "15                      Lead Bioinformatics Programmer   \n",
       "16                           Machine Learning Engineer   \n",
       "19                                   Program Assistant   \n",
       "23                         Inside Sales Representative   \n",
       "24                       Web Security Research Analyst   \n",
       "25                                 Lead Data Scientist   \n",
       "26                               Senior Data Scientist   \n",
       "27                     Associate Director of Analytics   \n",
       "28                         Senior Data Science Manager   \n",
       "29   City Research Scientist Bureau of the Public H...   \n",
       "31                                    Health Scientist   \n",
       "32                                Technical Researcher   \n",
       "33                    Senior Data Scientist - Bio-tech   \n",
       "34   Quantitative Research Analyst for Multi-Billio...   \n",
       "35                           Machine Learning Engineer   \n",
       "36                       FTR Quantitative Risk Analyst   \n",
       "37         Senior Statistician for Fortune 500 Company   \n",
       "251                Genetic Counselor Clinical Genomics   \n",
       "747                      Quantitative Research Analyst   \n",
       "748             CLS Certifying Scientist (Toxicologist   \n",
       "749                          Lead Quantitative Analyst   \n",
       "750                    Assistant Director Data Science   \n",
       "751                           Clinical User Operations   \n",
       "752                          Variant Scientist (Remote   \n",
       "\n",
       "                                               company  final_salary  \n",
       "0                              ALC Staffing Associates       72500.0  \n",
       "1                                        Alexander Bec       75000.0  \n",
       "3                     Infotek Consulting Services Inc.      105000.0  \n",
       "5                                     The Bivium Group      102500.0  \n",
       "7                                    SearchBankingJobs      177500.0  \n",
       "9                                         BioPier Inc.       90000.0  \n",
       "11                                  Jobspring Partners      130000.0  \n",
       "12                               Workbridge Associates      132500.0  \n",
       "13                                    The Bivium Group      142500.0  \n",
       "14                       Commonwealth of Massachusetts       73570.5  \n",
       "15                          Baylor College of Medicine       90000.0  \n",
       "16                                 NRS Global Partners      107500.0  \n",
       "19                       Union of Concerned Scientists       35000.0  \n",
       "23                                          PayFactors       80000.0  \n",
       "24                                            SiteLock       52500.0  \n",
       "25                                 Analytic Recruiting      140000.0  \n",
       "26                                      Selby Jennings      150000.0  \n",
       "27                               Workbridge Associates      150000.0  \n",
       "28                                             Harnham      185000.0  \n",
       "29                       DEPT OF HEALTH/MENTAL HYGIENE       65977.0  \n",
       "31           Centers for Disease Control and Preven...      117437.5  \n",
       "32                      HOUSING PRESERVATION & DVLPMNT       70286.0  \n",
       "33                                             Harnham      170000.0  \n",
       "34                                             Averity      175000.0  \n",
       "35                               Workbridge Associates      125000.0  \n",
       "36                                      Selby Jennings      135000.0  \n",
       "37                                             Averity      110000.0  \n",
       "251                              Lighthouse Recruiting       95000.0  \n",
       "747                         Liberty Personnel Services      140000.0  \n",
       "748                              Lighthouse Recruiting       75000.0  \n",
       "749                                  SearchBankingJobs      177500.0  \n",
       "750                                     Liberty Mutual      118000.0  \n",
       "751                                     Quartet Health       50000.0  \n",
       "752                              Lighthouse Recruiting       95000.0  >"
      ]
     },
     "execution_count": 419,
     "metadata": {},
     "output_type": "execute_result"
    }
   ],
   "source": [
    "job_details_csv"
   ]
  },
  {
   "cell_type": "markdown",
   "metadata": {
    "focus": false,
    "id": "04563b69-f7b6-466f-9d65-fc62c9ddee6a"
   },
   "source": [
    "## Predicting salaries using Random Forests + Another Classifier"
   ]
  },
  {
   "cell_type": "markdown",
   "metadata": {
    "focus": false,
    "id": "243e949e-2742-40af-872e-fec475fd306c"
   },
   "source": [
    "#### Load in the the data of scraped salaries"
   ]
  },
  {
   "cell_type": "code",
   "execution_count": 616,
   "metadata": {
    "collapsed": false,
    "focus": false,
    "id": "588f9845-6143-4bcc-bfd1-85d45b79303d"
   },
   "outputs": [],
   "source": [
    "## YOUR CODE HERE\n",
    "from sklearn.ensemble import RandomForestClassifier\n",
    "from sklearn.neighbors import KNeighborsClassifier\n",
    "from sklearn.cross_validation import train_test_split"
   ]
  },
  {
   "cell_type": "code",
   "execution_count": 617,
   "metadata": {
    "collapsed": true
   },
   "outputs": [],
   "source": [
    "rfc = RandomForestClassifier()\n",
    "knn = KNeighborsClassifier()"
   ]
  },
  {
   "cell_type": "markdown",
   "metadata": {
    "focus": false,
    "id": "c7631f51-07f2-4c79-a093-3e9bc7849a48"
   },
   "source": [
    "#### We want to predict a binary variable - whether the salary was low or high. Compute the median salary and create a new binary variable that is true when the salary is high (above the median)\n",
    "\n",
    "We could also perform Linear Regression (or any regression) to predict the salary value here. Instead, we are going to convert this into a _binary_ classification problem, by predicting two classes, HIGH vs LOW salary.\n",
    "\n",
    "While performing regression may be better, performing classification may help remove some of the noise of the extreme salaries. We don't have to choice the `median` as the splitting point - we could also split on the 75th percentile or any other reasonable breaking point.\n",
    "\n",
    "In fact, the ideal scenario may be to predict many levels of salaries, "
   ]
  },
  {
   "cell_type": "code",
   "execution_count": 424,
   "metadata": {
    "collapsed": true
   },
   "outputs": [],
   "source": [
    "# Median salary is 72,500 per year \n",
    "# Should do the mean or the 50th percentile instead as there aren't that many salaries above 72,500."
   ]
  },
  {
   "cell_type": "code",
   "execution_count": 427,
   "metadata": {
    "collapsed": false
   },
   "outputs": [
    {
     "data": {
      "text/plain": [
       "count        34.000000\n",
       "mean     112066.794118\n",
       "std       40383.170629\n",
       "min       35000.000000\n",
       "25%       76250.000000\n",
       "50%      108750.000000\n",
       "75%      140000.000000\n",
       "max      185000.000000\n",
       "Name: final_salary, dtype: float64"
      ]
     },
     "execution_count": 427,
     "metadata": {},
     "output_type": "execute_result"
    }
   ],
   "source": [
    "jobs.final_salary.describe()"
   ]
  },
  {
   "cell_type": "code",
   "execution_count": 428,
   "metadata": {
    "collapsed": true
   },
   "outputs": [],
   "source": [
    "#Upper 50% above 108,750\n",
    "jobs['high_or_low'] = jobs['final_salary'].map(lambda x: 1 if x > 108750 else 0) "
   ]
  },
  {
   "cell_type": "code",
   "execution_count": 429,
   "metadata": {
    "collapsed": false,
    "scrolled": true
   },
   "outputs": [
    {
     "data": {
      "text/html": [
       "<div>\n",
       "<table border=\"1\" class=\"dataframe\">\n",
       "  <thead>\n",
       "    <tr style=\"text-align: right;\">\n",
       "      <th></th>\n",
       "      <th>location</th>\n",
       "      <th>title</th>\n",
       "      <th>company</th>\n",
       "      <th>final_salary</th>\n",
       "      <th>high_or_low</th>\n",
       "    </tr>\n",
       "  </thead>\n",
       "  <tbody>\n",
       "    <tr>\n",
       "      <th>0</th>\n",
       "      <td>Boston, MA</td>\n",
       "      <td>SAS Statistical Data Analyst-Healthcare Marketing</td>\n",
       "      <td>ALC Staffing Associates</td>\n",
       "      <td>72500.0</td>\n",
       "      <td>0</td>\n",
       "    </tr>\n",
       "    <tr>\n",
       "      <th>1</th>\n",
       "      <td>Boston, MA</td>\n",
       "      <td>SAS Program / Statistical Analyst-Data Mining</td>\n",
       "      <td>Alexander Bec</td>\n",
       "      <td>75000.0</td>\n",
       "      <td>0</td>\n",
       "    </tr>\n",
       "    <tr>\n",
       "      <th>3</th>\n",
       "      <td>Boston, MA 02108 (Back Bay-Beacon Hill area)</td>\n",
       "      <td>Data Analyst</td>\n",
       "      <td>Infotek Consulting Services Inc.</td>\n",
       "      <td>105000.0</td>\n",
       "      <td>0</td>\n",
       "    </tr>\n",
       "    <tr>\n",
       "      <th>5</th>\n",
       "      <td>Cambridge, MA</td>\n",
       "      <td>Front-End Developer - JavaScript/HTML5 for EdT...</td>\n",
       "      <td>The Bivium Group</td>\n",
       "      <td>102500.0</td>\n",
       "      <td>0</td>\n",
       "    </tr>\n",
       "    <tr>\n",
       "      <th>7</th>\n",
       "      <td>Houston, TX</td>\n",
       "      <td>Quantitative Risk Analyst</td>\n",
       "      <td>SearchBankingJobs</td>\n",
       "      <td>177500.0</td>\n",
       "      <td>1</td>\n",
       "    </tr>\n",
       "    <tr>\n",
       "      <th>9</th>\n",
       "      <td>Lexington, MA 02420</td>\n",
       "      <td>Statistical Programmer</td>\n",
       "      <td>BioPier Inc.</td>\n",
       "      <td>90000.0</td>\n",
       "      <td>0</td>\n",
       "    </tr>\n",
       "    <tr>\n",
       "      <th>11</th>\n",
       "      <td>Boston, MA 02116 (South End area)</td>\n",
       "      <td>Back End Java Developer-Machine Learning</td>\n",
       "      <td>Jobspring Partners</td>\n",
       "      <td>130000.0</td>\n",
       "      <td>1</td>\n",
       "    </tr>\n",
       "    <tr>\n",
       "      <th>12</th>\n",
       "      <td>Boston, MA</td>\n",
       "      <td>Spark/Hadoop/Scala at Top Growth Stage Startup</td>\n",
       "      <td>Workbridge Associates</td>\n",
       "      <td>132500.0</td>\n",
       "      <td>1</td>\n",
       "    </tr>\n",
       "    <tr>\n",
       "      <th>13</th>\n",
       "      <td>Boston, MA</td>\n",
       "      <td>Principal Software Engineer Lead Software Engi...</td>\n",
       "      <td>The Bivium Group</td>\n",
       "      <td>142500.0</td>\n",
       "      <td>1</td>\n",
       "    </tr>\n",
       "    <tr>\n",
       "      <th>14</th>\n",
       "      <td>Boston, MA</td>\n",
       "      <td>Clinical Laboratory Surveyor</td>\n",
       "      <td>Commonwealth of Massachusetts</td>\n",
       "      <td>73570.5</td>\n",
       "      <td>0</td>\n",
       "    </tr>\n",
       "    <tr>\n",
       "      <th>15</th>\n",
       "      <td>Houston, TX</td>\n",
       "      <td>Lead Bioinformatics Programmer</td>\n",
       "      <td>Baylor College of Medicine</td>\n",
       "      <td>90000.0</td>\n",
       "      <td>0</td>\n",
       "    </tr>\n",
       "    <tr>\n",
       "      <th>16</th>\n",
       "      <td>Quincy, MA 02169</td>\n",
       "      <td>Machine Learning Engineer</td>\n",
       "      <td>NRS Global Partners</td>\n",
       "      <td>107500.0</td>\n",
       "      <td>0</td>\n",
       "    </tr>\n",
       "    <tr>\n",
       "      <th>19</th>\n",
       "      <td>Cambridge, MA 02138 (West Cambridge area)</td>\n",
       "      <td>Program Assistant</td>\n",
       "      <td>Union of Concerned Scientists</td>\n",
       "      <td>35000.0</td>\n",
       "      <td>0</td>\n",
       "    </tr>\n",
       "    <tr>\n",
       "      <th>23</th>\n",
       "      <td>Braintree, MA</td>\n",
       "      <td>Inside Sales Representative</td>\n",
       "      <td>PayFactors</td>\n",
       "      <td>80000.0</td>\n",
       "      <td>0</td>\n",
       "    </tr>\n",
       "    <tr>\n",
       "      <th>24</th>\n",
       "      <td>Scottsdale, AZ</td>\n",
       "      <td>Web Security Research Analyst</td>\n",
       "      <td>SiteLock</td>\n",
       "      <td>52500.0</td>\n",
       "      <td>0</td>\n",
       "    </tr>\n",
       "    <tr>\n",
       "      <th>25</th>\n",
       "      <td>Chicago, IL</td>\n",
       "      <td>Lead Data Scientist</td>\n",
       "      <td>Analytic Recruiting</td>\n",
       "      <td>140000.0</td>\n",
       "      <td>1</td>\n",
       "    </tr>\n",
       "    <tr>\n",
       "      <th>26</th>\n",
       "      <td>Chicago, IL</td>\n",
       "      <td>Senior Data Scientist</td>\n",
       "      <td>Selby Jennings</td>\n",
       "      <td>150000.0</td>\n",
       "      <td>1</td>\n",
       "    </tr>\n",
       "    <tr>\n",
       "      <th>27</th>\n",
       "      <td>Sausalito, CA 94965</td>\n",
       "      <td>Associate Director of Analytics</td>\n",
       "      <td>Workbridge Associates</td>\n",
       "      <td>150000.0</td>\n",
       "      <td>1</td>\n",
       "    </tr>\n",
       "    <tr>\n",
       "      <th>28</th>\n",
       "      <td>San Francisco, CA</td>\n",
       "      <td>Senior Data Science Manager</td>\n",
       "      <td>Harnham</td>\n",
       "      <td>185000.0</td>\n",
       "      <td>1</td>\n",
       "    </tr>\n",
       "    <tr>\n",
       "      <th>29</th>\n",
       "      <td>Manhattan, NY</td>\n",
       "      <td>City Research Scientist Bureau of the Public H...</td>\n",
       "      <td>DEPT OF HEALTH/MENTAL HYGIENE</td>\n",
       "      <td>65977.0</td>\n",
       "      <td>0</td>\n",
       "    </tr>\n",
       "    <tr>\n",
       "      <th>31</th>\n",
       "      <td>New York, NY</td>\n",
       "      <td>Health Scientist</td>\n",
       "      <td>Centers for Disease Control and Preven...</td>\n",
       "      <td>117437.5</td>\n",
       "      <td>1</td>\n",
       "    </tr>\n",
       "    <tr>\n",
       "      <th>32</th>\n",
       "      <td>New York, NY</td>\n",
       "      <td>Technical Researcher</td>\n",
       "      <td>HOUSING PRESERVATION &amp; DVLPMNT</td>\n",
       "      <td>70286.0</td>\n",
       "      <td>0</td>\n",
       "    </tr>\n",
       "    <tr>\n",
       "      <th>33</th>\n",
       "      <td>New York, NY</td>\n",
       "      <td>Senior Data Scientist - Bio-tech</td>\n",
       "      <td>Harnham</td>\n",
       "      <td>170000.0</td>\n",
       "      <td>1</td>\n",
       "    </tr>\n",
       "    <tr>\n",
       "      <th>34</th>\n",
       "      <td>New York, NY</td>\n",
       "      <td>Quantitative Research Analyst for Multi-Billio...</td>\n",
       "      <td>Averity</td>\n",
       "      <td>175000.0</td>\n",
       "      <td>1</td>\n",
       "    </tr>\n",
       "    <tr>\n",
       "      <th>35</th>\n",
       "      <td>New York, NY 10013 (Tribeca area)</td>\n",
       "      <td>Machine Learning Engineer</td>\n",
       "      <td>Workbridge Associates</td>\n",
       "      <td>125000.0</td>\n",
       "      <td>1</td>\n",
       "    </tr>\n",
       "    <tr>\n",
       "      <th>36</th>\n",
       "      <td>New York, NY 10167 (Midtown area)</td>\n",
       "      <td>FTR Quantitative Risk Analyst</td>\n",
       "      <td>Selby Jennings</td>\n",
       "      <td>135000.0</td>\n",
       "      <td>1</td>\n",
       "    </tr>\n",
       "    <tr>\n",
       "      <th>37</th>\n",
       "      <td>New York, NY</td>\n",
       "      <td>Senior Statistician for Fortune 500 Company</td>\n",
       "      <td>Averity</td>\n",
       "      <td>110000.0</td>\n",
       "      <td>1</td>\n",
       "    </tr>\n",
       "    <tr>\n",
       "      <th>251</th>\n",
       "      <td>Plano, TX</td>\n",
       "      <td>Genetic Counselor Clinical Genomics</td>\n",
       "      <td>Lighthouse Recruiting</td>\n",
       "      <td>95000.0</td>\n",
       "      <td>0</td>\n",
       "    </tr>\n",
       "    <tr>\n",
       "      <th>747</th>\n",
       "      <td>Philadelphia, PA</td>\n",
       "      <td>Quantitative Research Analyst</td>\n",
       "      <td>Liberty Personnel Services</td>\n",
       "      <td>140000.0</td>\n",
       "      <td>1</td>\n",
       "    </tr>\n",
       "    <tr>\n",
       "      <th>748</th>\n",
       "      <td>San Fernando, CA</td>\n",
       "      <td>CLS Certifying Scientist (Toxicologist</td>\n",
       "      <td>Lighthouse Recruiting</td>\n",
       "      <td>75000.0</td>\n",
       "      <td>0</td>\n",
       "    </tr>\n",
       "    <tr>\n",
       "      <th>749</th>\n",
       "      <td>Atlanta, GA</td>\n",
       "      <td>Lead Quantitative Analyst</td>\n",
       "      <td>SearchBankingJobs</td>\n",
       "      <td>177500.0</td>\n",
       "      <td>1</td>\n",
       "    </tr>\n",
       "    <tr>\n",
       "      <th>750</th>\n",
       "      <td>Seattle, WA</td>\n",
       "      <td>Assistant Director Data Science</td>\n",
       "      <td>Liberty Mutual</td>\n",
       "      <td>118000.0</td>\n",
       "      <td>1</td>\n",
       "    </tr>\n",
       "    <tr>\n",
       "      <th>751</th>\n",
       "      <td>Seattle, WA</td>\n",
       "      <td>Clinical User Operations</td>\n",
       "      <td>Quartet Health</td>\n",
       "      <td>50000.0</td>\n",
       "      <td>0</td>\n",
       "    </tr>\n",
       "    <tr>\n",
       "      <th>752</th>\n",
       "      <td>Seattle, WA</td>\n",
       "      <td>Variant Scientist (Remote</td>\n",
       "      <td>Lighthouse Recruiting</td>\n",
       "      <td>95000.0</td>\n",
       "      <td>0</td>\n",
       "    </tr>\n",
       "  </tbody>\n",
       "</table>\n",
       "</div>"
      ],
      "text/plain": [
       "                                         location  \\\n",
       "0                                      Boston, MA   \n",
       "1                                      Boston, MA   \n",
       "3    Boston, MA 02108 (Back Bay-Beacon Hill area)   \n",
       "5                                   Cambridge, MA   \n",
       "7                                     Houston, TX   \n",
       "9                             Lexington, MA 02420   \n",
       "11              Boston, MA 02116 (South End area)   \n",
       "12                                     Boston, MA   \n",
       "13                                     Boston, MA   \n",
       "14                                     Boston, MA   \n",
       "15                                    Houston, TX   \n",
       "16                               Quincy, MA 02169   \n",
       "19      Cambridge, MA 02138 (West Cambridge area)   \n",
       "23                                  Braintree, MA   \n",
       "24                                 Scottsdale, AZ   \n",
       "25                                    Chicago, IL   \n",
       "26                                    Chicago, IL   \n",
       "27                            Sausalito, CA 94965   \n",
       "28                              San Francisco, CA   \n",
       "29                                  Manhattan, NY   \n",
       "31                                   New York, NY   \n",
       "32                                   New York, NY   \n",
       "33                                   New York, NY   \n",
       "34                                   New York, NY   \n",
       "35              New York, NY 10013 (Tribeca area)   \n",
       "36              New York, NY 10167 (Midtown area)   \n",
       "37                                   New York, NY   \n",
       "251                                     Plano, TX   \n",
       "747                              Philadelphia, PA   \n",
       "748                              San Fernando, CA   \n",
       "749                                   Atlanta, GA   \n",
       "750                                   Seattle, WA   \n",
       "751                                   Seattle, WA   \n",
       "752                                   Seattle, WA   \n",
       "\n",
       "                                                 title  \\\n",
       "0    SAS Statistical Data Analyst-Healthcare Marketing   \n",
       "1        SAS Program / Statistical Analyst-Data Mining   \n",
       "3                                         Data Analyst   \n",
       "5    Front-End Developer - JavaScript/HTML5 for EdT...   \n",
       "7                            Quantitative Risk Analyst   \n",
       "9                               Statistical Programmer   \n",
       "11            Back End Java Developer-Machine Learning   \n",
       "12      Spark/Hadoop/Scala at Top Growth Stage Startup   \n",
       "13   Principal Software Engineer Lead Software Engi...   \n",
       "14                        Clinical Laboratory Surveyor   \n",
       "15                      Lead Bioinformatics Programmer   \n",
       "16                           Machine Learning Engineer   \n",
       "19                                   Program Assistant   \n",
       "23                         Inside Sales Representative   \n",
       "24                       Web Security Research Analyst   \n",
       "25                                 Lead Data Scientist   \n",
       "26                               Senior Data Scientist   \n",
       "27                     Associate Director of Analytics   \n",
       "28                         Senior Data Science Manager   \n",
       "29   City Research Scientist Bureau of the Public H...   \n",
       "31                                    Health Scientist   \n",
       "32                                Technical Researcher   \n",
       "33                    Senior Data Scientist - Bio-tech   \n",
       "34   Quantitative Research Analyst for Multi-Billio...   \n",
       "35                           Machine Learning Engineer   \n",
       "36                       FTR Quantitative Risk Analyst   \n",
       "37         Senior Statistician for Fortune 500 Company   \n",
       "251                Genetic Counselor Clinical Genomics   \n",
       "747                      Quantitative Research Analyst   \n",
       "748             CLS Certifying Scientist (Toxicologist   \n",
       "749                          Lead Quantitative Analyst   \n",
       "750                    Assistant Director Data Science   \n",
       "751                           Clinical User Operations   \n",
       "752                          Variant Scientist (Remote   \n",
       "\n",
       "                                               company  final_salary  \\\n",
       "0                              ALC Staffing Associates       72500.0   \n",
       "1                                        Alexander Bec       75000.0   \n",
       "3                     Infotek Consulting Services Inc.      105000.0   \n",
       "5                                     The Bivium Group      102500.0   \n",
       "7                                    SearchBankingJobs      177500.0   \n",
       "9                                         BioPier Inc.       90000.0   \n",
       "11                                  Jobspring Partners      130000.0   \n",
       "12                               Workbridge Associates      132500.0   \n",
       "13                                    The Bivium Group      142500.0   \n",
       "14                       Commonwealth of Massachusetts       73570.5   \n",
       "15                          Baylor College of Medicine       90000.0   \n",
       "16                                 NRS Global Partners      107500.0   \n",
       "19                       Union of Concerned Scientists       35000.0   \n",
       "23                                          PayFactors       80000.0   \n",
       "24                                            SiteLock       52500.0   \n",
       "25                                 Analytic Recruiting      140000.0   \n",
       "26                                      Selby Jennings      150000.0   \n",
       "27                               Workbridge Associates      150000.0   \n",
       "28                                             Harnham      185000.0   \n",
       "29                       DEPT OF HEALTH/MENTAL HYGIENE       65977.0   \n",
       "31           Centers for Disease Control and Preven...      117437.5   \n",
       "32                      HOUSING PRESERVATION & DVLPMNT       70286.0   \n",
       "33                                             Harnham      170000.0   \n",
       "34                                             Averity      175000.0   \n",
       "35                               Workbridge Associates      125000.0   \n",
       "36                                      Selby Jennings      135000.0   \n",
       "37                                             Averity      110000.0   \n",
       "251                              Lighthouse Recruiting       95000.0   \n",
       "747                         Liberty Personnel Services      140000.0   \n",
       "748                              Lighthouse Recruiting       75000.0   \n",
       "749                                  SearchBankingJobs      177500.0   \n",
       "750                                     Liberty Mutual      118000.0   \n",
       "751                                     Quartet Health       50000.0   \n",
       "752                              Lighthouse Recruiting       95000.0   \n",
       "\n",
       "     high_or_low  \n",
       "0              0  \n",
       "1              0  \n",
       "3              0  \n",
       "5              0  \n",
       "7              1  \n",
       "9              0  \n",
       "11             1  \n",
       "12             1  \n",
       "13             1  \n",
       "14             0  \n",
       "15             0  \n",
       "16             0  \n",
       "19             0  \n",
       "23             0  \n",
       "24             0  \n",
       "25             1  \n",
       "26             1  \n",
       "27             1  \n",
       "28             1  \n",
       "29             0  \n",
       "31             1  \n",
       "32             0  \n",
       "33             1  \n",
       "34             1  \n",
       "35             1  \n",
       "36             1  \n",
       "37             1  \n",
       "251            0  \n",
       "747            1  \n",
       "748            0  \n",
       "749            1  \n",
       "750            1  \n",
       "751            0  \n",
       "752            0  "
      ]
     },
     "execution_count": 429,
     "metadata": {},
     "output_type": "execute_result"
    }
   ],
   "source": [
    "jobs"
   ]
  },
  {
   "cell_type": "code",
   "execution_count": 448,
   "metadata": {
    "collapsed": false,
    "scrolled": true
   },
   "outputs": [],
   "source": [
    "jobs_with_locations = pd.concat([jobs, pd.get_dummies(jobs.location)], axis=1)"
   ]
  },
  {
   "cell_type": "code",
   "execution_count": 450,
   "metadata": {
    "collapsed": false,
    "scrolled": true
   },
   "outputs": [
    {
     "data": {
      "text/html": [
       "<div>\n",
       "<table border=\"1\" class=\"dataframe\">\n",
       "  <thead>\n",
       "    <tr style=\"text-align: right;\">\n",
       "      <th></th>\n",
       "      <th>location</th>\n",
       "      <th>title</th>\n",
       "      <th>company</th>\n",
       "      <th>final_salary</th>\n",
       "      <th>high_or_low</th>\n",
       "      <th>Atlanta, GA</th>\n",
       "      <th>Boston, MA</th>\n",
       "      <th>Boston, MA 02108 (Back Bay-Beacon Hill area)</th>\n",
       "      <th>Boston, MA 02116 (South End area)</th>\n",
       "      <th>Braintree, MA</th>\n",
       "      <th>...</th>\n",
       "      <th>New York, NY 10013 (Tribeca area)</th>\n",
       "      <th>New York, NY 10167 (Midtown area)</th>\n",
       "      <th>Philadelphia, PA</th>\n",
       "      <th>Plano, TX</th>\n",
       "      <th>Quincy, MA 02169</th>\n",
       "      <th>San Fernando, CA</th>\n",
       "      <th>San Francisco, CA</th>\n",
       "      <th>Sausalito, CA 94965</th>\n",
       "      <th>Scottsdale, AZ</th>\n",
       "      <th>Seattle, WA</th>\n",
       "    </tr>\n",
       "  </thead>\n",
       "  <tbody>\n",
       "    <tr>\n",
       "      <th>0</th>\n",
       "      <td>Boston, MA</td>\n",
       "      <td>SAS Statistical Data Analyst-Healthcare Marketing</td>\n",
       "      <td>ALC Staffing Associates</td>\n",
       "      <td>72500.0</td>\n",
       "      <td>0</td>\n",
       "      <td>0.0</td>\n",
       "      <td>1.0</td>\n",
       "      <td>0.0</td>\n",
       "      <td>0.0</td>\n",
       "      <td>0.0</td>\n",
       "      <td>...</td>\n",
       "      <td>0.0</td>\n",
       "      <td>0.0</td>\n",
       "      <td>0.0</td>\n",
       "      <td>0.0</td>\n",
       "      <td>0.0</td>\n",
       "      <td>0.0</td>\n",
       "      <td>0.0</td>\n",
       "      <td>0.0</td>\n",
       "      <td>0.0</td>\n",
       "      <td>0.0</td>\n",
       "    </tr>\n",
       "    <tr>\n",
       "      <th>1</th>\n",
       "      <td>Boston, MA</td>\n",
       "      <td>SAS Program / Statistical Analyst-Data Mining</td>\n",
       "      <td>Alexander Bec</td>\n",
       "      <td>75000.0</td>\n",
       "      <td>0</td>\n",
       "      <td>0.0</td>\n",
       "      <td>1.0</td>\n",
       "      <td>0.0</td>\n",
       "      <td>0.0</td>\n",
       "      <td>0.0</td>\n",
       "      <td>...</td>\n",
       "      <td>0.0</td>\n",
       "      <td>0.0</td>\n",
       "      <td>0.0</td>\n",
       "      <td>0.0</td>\n",
       "      <td>0.0</td>\n",
       "      <td>0.0</td>\n",
       "      <td>0.0</td>\n",
       "      <td>0.0</td>\n",
       "      <td>0.0</td>\n",
       "      <td>0.0</td>\n",
       "    </tr>\n",
       "    <tr>\n",
       "      <th>3</th>\n",
       "      <td>Boston, MA 02108 (Back Bay-Beacon Hill area)</td>\n",
       "      <td>Data Analyst</td>\n",
       "      <td>Infotek Consulting Services Inc.</td>\n",
       "      <td>105000.0</td>\n",
       "      <td>0</td>\n",
       "      <td>0.0</td>\n",
       "      <td>0.0</td>\n",
       "      <td>1.0</td>\n",
       "      <td>0.0</td>\n",
       "      <td>0.0</td>\n",
       "      <td>...</td>\n",
       "      <td>0.0</td>\n",
       "      <td>0.0</td>\n",
       "      <td>0.0</td>\n",
       "      <td>0.0</td>\n",
       "      <td>0.0</td>\n",
       "      <td>0.0</td>\n",
       "      <td>0.0</td>\n",
       "      <td>0.0</td>\n",
       "      <td>0.0</td>\n",
       "      <td>0.0</td>\n",
       "    </tr>\n",
       "  </tbody>\n",
       "</table>\n",
       "<p>3 rows × 27 columns</p>\n",
       "</div>"
      ],
      "text/plain": [
       "                                       location  \\\n",
       "0                                    Boston, MA   \n",
       "1                                    Boston, MA   \n",
       "3  Boston, MA 02108 (Back Bay-Beacon Hill area)   \n",
       "\n",
       "                                               title  \\\n",
       "0  SAS Statistical Data Analyst-Healthcare Marketing   \n",
       "1      SAS Program / Statistical Analyst-Data Mining   \n",
       "3                                       Data Analyst   \n",
       "\n",
       "                                company  final_salary  high_or_low  \\\n",
       "0               ALC Staffing Associates       72500.0            0   \n",
       "1                         Alexander Bec       75000.0            0   \n",
       "3      Infotek Consulting Services Inc.      105000.0            0   \n",
       "\n",
       "   Atlanta, GA  Boston, MA  Boston, MA 02108 (Back Bay-Beacon Hill area)  \\\n",
       "0          0.0         1.0                                           0.0   \n",
       "1          0.0         1.0                                           0.0   \n",
       "3          0.0         0.0                                           1.0   \n",
       "\n",
       "   Boston, MA 02116 (South End area)  Braintree, MA     ...       \\\n",
       "0                                0.0            0.0     ...        \n",
       "1                                0.0            0.0     ...        \n",
       "3                                0.0            0.0     ...        \n",
       "\n",
       "   New York, NY 10013 (Tribeca area)  New York, NY 10167 (Midtown area)  \\\n",
       "0                                0.0                                0.0   \n",
       "1                                0.0                                0.0   \n",
       "3                                0.0                                0.0   \n",
       "\n",
       "   Philadelphia, PA  Plano, TX  Quincy, MA 02169  San Fernando, CA  \\\n",
       "0               0.0        0.0               0.0               0.0   \n",
       "1               0.0        0.0               0.0               0.0   \n",
       "3               0.0        0.0               0.0               0.0   \n",
       "\n",
       "   San Francisco, CA  Sausalito, CA 94965  Scottsdale, AZ  Seattle, WA  \n",
       "0                0.0                  0.0             0.0          0.0  \n",
       "1                0.0                  0.0             0.0          0.0  \n",
       "3                0.0                  0.0             0.0          0.0  \n",
       "\n",
       "[3 rows x 27 columns]"
      ]
     },
     "execution_count": 450,
     "metadata": {},
     "output_type": "execute_result"
    }
   ],
   "source": [
    "jobs_with_locations.head(3)"
   ]
  },
  {
   "cell_type": "markdown",
   "metadata": {
    "focus": false,
    "id": "a7afb2c0-d41e-4779-8216-91cd8dd4473f"
   },
   "source": [
    "#### Thought experiment: What is the baseline accuracy for this model?"
   ]
  },
  {
   "cell_type": "markdown",
   "metadata": {
    "collapsed": true,
    "focus": false,
    "id": "87a17d3d-b7f4-4747-9f75-f9af1d18a174"
   },
   "source": [
    "It is a measure of how well our selected features will be at predicting a high or low salary. "
   ]
  },
  {
   "cell_type": "markdown",
   "metadata": {
    "focus": false,
    "id": "4fb29de2-5b98-474c-a4ad-5170b72b9aea"
   },
   "source": [
    "#### Create a Random Forest model to predict High/Low salary. Start by ONLY using the location as a feature. "
   ]
  },
  {
   "cell_type": "code",
   "execution_count": 612,
   "metadata": {
    "collapsed": false,
    "focus": false,
    "id": "ddbc6159-6854-4ca7-857f-bfecdaf6d9c2"
   },
   "outputs": [],
   "source": [
    "## YOUR CODE HERE\n",
    "X_1 = jobs_with_locations.drop(jobs_with_locations[[0,1,2,3,4]], axis=1)\n",
    "y_1 = jobs_with_locations.high_or_low"
   ]
  },
  {
   "cell_type": "code",
   "execution_count": null,
   "metadata": {
    "collapsed": true
   },
   "outputs": [],
   "source": [
    "# NO TRAIN TEST SPLIT. "
   ]
  },
  {
   "cell_type": "code",
   "execution_count": 490,
   "metadata": {
    "collapsed": false,
    "scrolled": true
   },
   "outputs": [
    {
     "data": {
      "text/plain": [
       "RandomForestClassifier(bootstrap=True, class_weight=None, criterion='gini',\n",
       "            max_depth=None, max_features='auto', max_leaf_nodes=None,\n",
       "            min_samples_leaf=1, min_samples_split=2,\n",
       "            min_weight_fraction_leaf=0.0, n_estimators=10, n_jobs=1,\n",
       "            oob_score=False, random_state=None, verbose=0,\n",
       "            warm_start=False)"
      ]
     },
     "execution_count": 490,
     "metadata": {},
     "output_type": "execute_result"
    }
   ],
   "source": [
    "rfc.fit(X_train,y_train)"
   ]
  },
  {
   "cell_type": "code",
   "execution_count": 491,
   "metadata": {
    "collapsed": false,
    "scrolled": true
   },
   "outputs": [
    {
     "data": {
      "text/plain": [
       "0.88235294117647056"
      ]
     },
     "execution_count": 491,
     "metadata": {},
     "output_type": "execute_result"
    }
   ],
   "source": [
    "#Accuracy score.\n",
    "rfc.score(X_train,y_train)"
   ]
  },
  {
   "cell_type": "code",
   "execution_count": 532,
   "metadata": {
    "collapsed": true
   },
   "outputs": [],
   "source": [
    "from sklearn.cross_validation import cross_val_score"
   ]
  },
  {
   "cell_type": "code",
   "execution_count": 493,
   "metadata": {
    "collapsed": false,
    "scrolled": true
   },
   "outputs": [
    {
     "data": {
      "text/plain": [
       "array([ 0.57142857,  0.4       ,  0.4       ])"
      ]
     },
     "execution_count": 493,
     "metadata": {},
     "output_type": "execute_result"
    }
   ],
   "source": [
    "cross_val_score(rfc, X_train, y_train)"
   ]
  },
  {
   "cell_type": "code",
   "execution_count": null,
   "metadata": {
    "collapsed": true
   },
   "outputs": [],
   "source": [
    "#The accuracy is high, but the cross validation score expresses substantially less \n",
    "# confidence. May be due to the smallness of the sample. "
   ]
  },
  {
   "cell_type": "code",
   "execution_count": 614,
   "metadata": {
    "collapsed": true
   },
   "outputs": [],
   "source": [
    "#Try with KNN"
   ]
  },
  {
   "cell_type": "code",
   "execution_count": 668,
   "metadata": {
    "collapsed": false,
    "scrolled": true
   },
   "outputs": [
    {
     "data": {
      "text/plain": [
       "KNeighborsClassifier(algorithm='auto', leaf_size=30, metric='minkowski',\n",
       "           metric_params=None, n_jobs=1, n_neighbors=5, p=2,\n",
       "           weights='uniform')"
      ]
     },
     "execution_count": 668,
     "metadata": {},
     "output_type": "execute_result"
    }
   ],
   "source": [
    "knn.fit(X_train, y_train)"
   ]
  },
  {
   "cell_type": "code",
   "execution_count": 669,
   "metadata": {
    "collapsed": false
   },
   "outputs": [
    {
     "data": {
      "text/plain": [
       "0.58823529411764708"
      ]
     },
     "execution_count": 669,
     "metadata": {},
     "output_type": "execute_result"
    }
   ],
   "source": [
    "knn.score(X_train,y_train)"
   ]
  },
  {
   "cell_type": "code",
   "execution_count": 621,
   "metadata": {
    "collapsed": true
   },
   "outputs": [],
   "source": [
    "#Less accurate than with rfc."
   ]
  },
  {
   "cell_type": "code",
   "execution_count": 622,
   "metadata": {
    "collapsed": false
   },
   "outputs": [
    {
     "data": {
      "text/plain": [
       "array([ 0.57142857,  0.6       ,  0.6       ])"
      ]
     },
     "execution_count": 622,
     "metadata": {},
     "output_type": "execute_result"
    }
   ],
   "source": [
    "cross_val_score(knn, X_train, y_train)"
   ]
  },
  {
   "cell_type": "code",
   "execution_count": null,
   "metadata": {
    "collapsed": true
   },
   "outputs": [],
   "source": [
    "#Same cross val score as with rfc. "
   ]
  },
  {
   "cell_type": "markdown",
   "metadata": {
    "focus": false,
    "id": "0ef04f32-419c-4bf2-baf7-48201f03df89"
   },
   "source": [
    "#### Create a few new variables in your dataframe to represent interesting features of a job title.\n",
    "- For example, create a feature that represents whether 'Senior' is in the title \n",
    "- or whether 'Manager' is in the title. \n",
    "- Then build a new Random Forest with these features. Do they add any value? \n"
   ]
  },
  {
   "cell_type": "code",
   "execution_count": 520,
   "metadata": {
    "collapsed": false,
    "focus": false,
    "id": "068dc1cf-7fd7-4f27-a1f1-7f0a5a221d29"
   },
   "outputs": [],
   "source": [
    "## YOUR CODE HERE\n",
    "senior_variable = jobs['title'].map(lambda x: 1 if 'Senior' in x else 0) "
   ]
  },
  {
   "cell_type": "code",
   "execution_count": 521,
   "metadata": {
    "collapsed": false
   },
   "outputs": [],
   "source": [
    "senior_variable = pd.DataFrame(senior_variable)"
   ]
  },
  {
   "cell_type": "code",
   "execution_count": 523,
   "metadata": {
    "collapsed": false,
    "scrolled": true
   },
   "outputs": [],
   "source": [
    "senior_variable = senior_variable.rename(columns = {'title':'senior_variable'})"
   ]
  },
  {
   "cell_type": "code",
   "execution_count": 525,
   "metadata": {
    "collapsed": true
   },
   "outputs": [],
   "source": [
    "jobs_with_seniors = pd.concat([jobs, senior_variable], axis=1)"
   ]
  },
  {
   "cell_type": "code",
   "execution_count": 526,
   "metadata": {
    "collapsed": false,
    "scrolled": true
   },
   "outputs": [
    {
     "data": {
      "text/html": [
       "<div>\n",
       "<table border=\"1\" class=\"dataframe\">\n",
       "  <thead>\n",
       "    <tr style=\"text-align: right;\">\n",
       "      <th></th>\n",
       "      <th>location</th>\n",
       "      <th>title</th>\n",
       "      <th>company</th>\n",
       "      <th>final_salary</th>\n",
       "      <th>high_or_low</th>\n",
       "      <th>senior_variable</th>\n",
       "    </tr>\n",
       "  </thead>\n",
       "  <tbody>\n",
       "    <tr>\n",
       "      <th>0</th>\n",
       "      <td>Boston, MA</td>\n",
       "      <td>SAS Statistical Data Analyst-Healthcare Marketing</td>\n",
       "      <td>ALC Staffing Associates</td>\n",
       "      <td>72500.0</td>\n",
       "      <td>0</td>\n",
       "      <td>0</td>\n",
       "    </tr>\n",
       "    <tr>\n",
       "      <th>1</th>\n",
       "      <td>Boston, MA</td>\n",
       "      <td>SAS Program / Statistical Analyst-Data Mining</td>\n",
       "      <td>Alexander Bec</td>\n",
       "      <td>75000.0</td>\n",
       "      <td>0</td>\n",
       "      <td>0</td>\n",
       "    </tr>\n",
       "    <tr>\n",
       "      <th>3</th>\n",
       "      <td>Boston, MA 02108 (Back Bay-Beacon Hill area)</td>\n",
       "      <td>Data Analyst</td>\n",
       "      <td>Infotek Consulting Services Inc.</td>\n",
       "      <td>105000.0</td>\n",
       "      <td>0</td>\n",
       "      <td>0</td>\n",
       "    </tr>\n",
       "    <tr>\n",
       "      <th>5</th>\n",
       "      <td>Cambridge, MA</td>\n",
       "      <td>Front-End Developer - JavaScript/HTML5 for EdT...</td>\n",
       "      <td>The Bivium Group</td>\n",
       "      <td>102500.0</td>\n",
       "      <td>0</td>\n",
       "      <td>0</td>\n",
       "    </tr>\n",
       "    <tr>\n",
       "      <th>7</th>\n",
       "      <td>Houston, TX</td>\n",
       "      <td>Quantitative Risk Analyst</td>\n",
       "      <td>SearchBankingJobs</td>\n",
       "      <td>177500.0</td>\n",
       "      <td>1</td>\n",
       "      <td>0</td>\n",
       "    </tr>\n",
       "    <tr>\n",
       "      <th>9</th>\n",
       "      <td>Lexington, MA 02420</td>\n",
       "      <td>Statistical Programmer</td>\n",
       "      <td>BioPier Inc.</td>\n",
       "      <td>90000.0</td>\n",
       "      <td>0</td>\n",
       "      <td>0</td>\n",
       "    </tr>\n",
       "    <tr>\n",
       "      <th>11</th>\n",
       "      <td>Boston, MA 02116 (South End area)</td>\n",
       "      <td>Back End Java Developer-Machine Learning</td>\n",
       "      <td>Jobspring Partners</td>\n",
       "      <td>130000.0</td>\n",
       "      <td>1</td>\n",
       "      <td>0</td>\n",
       "    </tr>\n",
       "    <tr>\n",
       "      <th>12</th>\n",
       "      <td>Boston, MA</td>\n",
       "      <td>Spark/Hadoop/Scala at Top Growth Stage Startup</td>\n",
       "      <td>Workbridge Associates</td>\n",
       "      <td>132500.0</td>\n",
       "      <td>1</td>\n",
       "      <td>0</td>\n",
       "    </tr>\n",
       "    <tr>\n",
       "      <th>13</th>\n",
       "      <td>Boston, MA</td>\n",
       "      <td>Principal Software Engineer Lead Software Engi...</td>\n",
       "      <td>The Bivium Group</td>\n",
       "      <td>142500.0</td>\n",
       "      <td>1</td>\n",
       "      <td>0</td>\n",
       "    </tr>\n",
       "    <tr>\n",
       "      <th>14</th>\n",
       "      <td>Boston, MA</td>\n",
       "      <td>Clinical Laboratory Surveyor</td>\n",
       "      <td>Commonwealth of Massachusetts</td>\n",
       "      <td>73570.5</td>\n",
       "      <td>0</td>\n",
       "      <td>0</td>\n",
       "    </tr>\n",
       "    <tr>\n",
       "      <th>15</th>\n",
       "      <td>Houston, TX</td>\n",
       "      <td>Lead Bioinformatics Programmer</td>\n",
       "      <td>Baylor College of Medicine</td>\n",
       "      <td>90000.0</td>\n",
       "      <td>0</td>\n",
       "      <td>0</td>\n",
       "    </tr>\n",
       "    <tr>\n",
       "      <th>16</th>\n",
       "      <td>Quincy, MA 02169</td>\n",
       "      <td>Machine Learning Engineer</td>\n",
       "      <td>NRS Global Partners</td>\n",
       "      <td>107500.0</td>\n",
       "      <td>0</td>\n",
       "      <td>0</td>\n",
       "    </tr>\n",
       "    <tr>\n",
       "      <th>19</th>\n",
       "      <td>Cambridge, MA 02138 (West Cambridge area)</td>\n",
       "      <td>Program Assistant</td>\n",
       "      <td>Union of Concerned Scientists</td>\n",
       "      <td>35000.0</td>\n",
       "      <td>0</td>\n",
       "      <td>0</td>\n",
       "    </tr>\n",
       "    <tr>\n",
       "      <th>23</th>\n",
       "      <td>Braintree, MA</td>\n",
       "      <td>Inside Sales Representative</td>\n",
       "      <td>PayFactors</td>\n",
       "      <td>80000.0</td>\n",
       "      <td>0</td>\n",
       "      <td>0</td>\n",
       "    </tr>\n",
       "    <tr>\n",
       "      <th>24</th>\n",
       "      <td>Scottsdale, AZ</td>\n",
       "      <td>Web Security Research Analyst</td>\n",
       "      <td>SiteLock</td>\n",
       "      <td>52500.0</td>\n",
       "      <td>0</td>\n",
       "      <td>0</td>\n",
       "    </tr>\n",
       "    <tr>\n",
       "      <th>25</th>\n",
       "      <td>Chicago, IL</td>\n",
       "      <td>Lead Data Scientist</td>\n",
       "      <td>Analytic Recruiting</td>\n",
       "      <td>140000.0</td>\n",
       "      <td>1</td>\n",
       "      <td>0</td>\n",
       "    </tr>\n",
       "    <tr>\n",
       "      <th>26</th>\n",
       "      <td>Chicago, IL</td>\n",
       "      <td>Senior Data Scientist</td>\n",
       "      <td>Selby Jennings</td>\n",
       "      <td>150000.0</td>\n",
       "      <td>1</td>\n",
       "      <td>1</td>\n",
       "    </tr>\n",
       "    <tr>\n",
       "      <th>27</th>\n",
       "      <td>Sausalito, CA 94965</td>\n",
       "      <td>Associate Director of Analytics</td>\n",
       "      <td>Workbridge Associates</td>\n",
       "      <td>150000.0</td>\n",
       "      <td>1</td>\n",
       "      <td>0</td>\n",
       "    </tr>\n",
       "    <tr>\n",
       "      <th>28</th>\n",
       "      <td>San Francisco, CA</td>\n",
       "      <td>Senior Data Science Manager</td>\n",
       "      <td>Harnham</td>\n",
       "      <td>185000.0</td>\n",
       "      <td>1</td>\n",
       "      <td>1</td>\n",
       "    </tr>\n",
       "    <tr>\n",
       "      <th>29</th>\n",
       "      <td>Manhattan, NY</td>\n",
       "      <td>City Research Scientist Bureau of the Public H...</td>\n",
       "      <td>DEPT OF HEALTH/MENTAL HYGIENE</td>\n",
       "      <td>65977.0</td>\n",
       "      <td>0</td>\n",
       "      <td>0</td>\n",
       "    </tr>\n",
       "    <tr>\n",
       "      <th>31</th>\n",
       "      <td>New York, NY</td>\n",
       "      <td>Health Scientist</td>\n",
       "      <td>Centers for Disease Control and Preven...</td>\n",
       "      <td>117437.5</td>\n",
       "      <td>1</td>\n",
       "      <td>0</td>\n",
       "    </tr>\n",
       "    <tr>\n",
       "      <th>32</th>\n",
       "      <td>New York, NY</td>\n",
       "      <td>Technical Researcher</td>\n",
       "      <td>HOUSING PRESERVATION &amp; DVLPMNT</td>\n",
       "      <td>70286.0</td>\n",
       "      <td>0</td>\n",
       "      <td>0</td>\n",
       "    </tr>\n",
       "    <tr>\n",
       "      <th>33</th>\n",
       "      <td>New York, NY</td>\n",
       "      <td>Senior Data Scientist - Bio-tech</td>\n",
       "      <td>Harnham</td>\n",
       "      <td>170000.0</td>\n",
       "      <td>1</td>\n",
       "      <td>1</td>\n",
       "    </tr>\n",
       "    <tr>\n",
       "      <th>34</th>\n",
       "      <td>New York, NY</td>\n",
       "      <td>Quantitative Research Analyst for Multi-Billio...</td>\n",
       "      <td>Averity</td>\n",
       "      <td>175000.0</td>\n",
       "      <td>1</td>\n",
       "      <td>0</td>\n",
       "    </tr>\n",
       "    <tr>\n",
       "      <th>35</th>\n",
       "      <td>New York, NY 10013 (Tribeca area)</td>\n",
       "      <td>Machine Learning Engineer</td>\n",
       "      <td>Workbridge Associates</td>\n",
       "      <td>125000.0</td>\n",
       "      <td>1</td>\n",
       "      <td>0</td>\n",
       "    </tr>\n",
       "    <tr>\n",
       "      <th>36</th>\n",
       "      <td>New York, NY 10167 (Midtown area)</td>\n",
       "      <td>FTR Quantitative Risk Analyst</td>\n",
       "      <td>Selby Jennings</td>\n",
       "      <td>135000.0</td>\n",
       "      <td>1</td>\n",
       "      <td>0</td>\n",
       "    </tr>\n",
       "    <tr>\n",
       "      <th>37</th>\n",
       "      <td>New York, NY</td>\n",
       "      <td>Senior Statistician for Fortune 500 Company</td>\n",
       "      <td>Averity</td>\n",
       "      <td>110000.0</td>\n",
       "      <td>1</td>\n",
       "      <td>1</td>\n",
       "    </tr>\n",
       "    <tr>\n",
       "      <th>251</th>\n",
       "      <td>Plano, TX</td>\n",
       "      <td>Genetic Counselor Clinical Genomics</td>\n",
       "      <td>Lighthouse Recruiting</td>\n",
       "      <td>95000.0</td>\n",
       "      <td>0</td>\n",
       "      <td>0</td>\n",
       "    </tr>\n",
       "    <tr>\n",
       "      <th>747</th>\n",
       "      <td>Philadelphia, PA</td>\n",
       "      <td>Quantitative Research Analyst</td>\n",
       "      <td>Liberty Personnel Services</td>\n",
       "      <td>140000.0</td>\n",
       "      <td>1</td>\n",
       "      <td>0</td>\n",
       "    </tr>\n",
       "    <tr>\n",
       "      <th>748</th>\n",
       "      <td>San Fernando, CA</td>\n",
       "      <td>CLS Certifying Scientist (Toxicologist</td>\n",
       "      <td>Lighthouse Recruiting</td>\n",
       "      <td>75000.0</td>\n",
       "      <td>0</td>\n",
       "      <td>0</td>\n",
       "    </tr>\n",
       "    <tr>\n",
       "      <th>749</th>\n",
       "      <td>Atlanta, GA</td>\n",
       "      <td>Lead Quantitative Analyst</td>\n",
       "      <td>SearchBankingJobs</td>\n",
       "      <td>177500.0</td>\n",
       "      <td>1</td>\n",
       "      <td>0</td>\n",
       "    </tr>\n",
       "    <tr>\n",
       "      <th>750</th>\n",
       "      <td>Seattle, WA</td>\n",
       "      <td>Assistant Director Data Science</td>\n",
       "      <td>Liberty Mutual</td>\n",
       "      <td>118000.0</td>\n",
       "      <td>1</td>\n",
       "      <td>0</td>\n",
       "    </tr>\n",
       "    <tr>\n",
       "      <th>751</th>\n",
       "      <td>Seattle, WA</td>\n",
       "      <td>Clinical User Operations</td>\n",
       "      <td>Quartet Health</td>\n",
       "      <td>50000.0</td>\n",
       "      <td>0</td>\n",
       "      <td>0</td>\n",
       "    </tr>\n",
       "    <tr>\n",
       "      <th>752</th>\n",
       "      <td>Seattle, WA</td>\n",
       "      <td>Variant Scientist (Remote</td>\n",
       "      <td>Lighthouse Recruiting</td>\n",
       "      <td>95000.0</td>\n",
       "      <td>0</td>\n",
       "      <td>0</td>\n",
       "    </tr>\n",
       "  </tbody>\n",
       "</table>\n",
       "</div>"
      ],
      "text/plain": [
       "                                         location  \\\n",
       "0                                      Boston, MA   \n",
       "1                                      Boston, MA   \n",
       "3    Boston, MA 02108 (Back Bay-Beacon Hill area)   \n",
       "5                                   Cambridge, MA   \n",
       "7                                     Houston, TX   \n",
       "9                             Lexington, MA 02420   \n",
       "11              Boston, MA 02116 (South End area)   \n",
       "12                                     Boston, MA   \n",
       "13                                     Boston, MA   \n",
       "14                                     Boston, MA   \n",
       "15                                    Houston, TX   \n",
       "16                               Quincy, MA 02169   \n",
       "19      Cambridge, MA 02138 (West Cambridge area)   \n",
       "23                                  Braintree, MA   \n",
       "24                                 Scottsdale, AZ   \n",
       "25                                    Chicago, IL   \n",
       "26                                    Chicago, IL   \n",
       "27                            Sausalito, CA 94965   \n",
       "28                              San Francisco, CA   \n",
       "29                                  Manhattan, NY   \n",
       "31                                   New York, NY   \n",
       "32                                   New York, NY   \n",
       "33                                   New York, NY   \n",
       "34                                   New York, NY   \n",
       "35              New York, NY 10013 (Tribeca area)   \n",
       "36              New York, NY 10167 (Midtown area)   \n",
       "37                                   New York, NY   \n",
       "251                                     Plano, TX   \n",
       "747                              Philadelphia, PA   \n",
       "748                              San Fernando, CA   \n",
       "749                                   Atlanta, GA   \n",
       "750                                   Seattle, WA   \n",
       "751                                   Seattle, WA   \n",
       "752                                   Seattle, WA   \n",
       "\n",
       "                                                 title  \\\n",
       "0    SAS Statistical Data Analyst-Healthcare Marketing   \n",
       "1        SAS Program / Statistical Analyst-Data Mining   \n",
       "3                                         Data Analyst   \n",
       "5    Front-End Developer - JavaScript/HTML5 for EdT...   \n",
       "7                            Quantitative Risk Analyst   \n",
       "9                               Statistical Programmer   \n",
       "11            Back End Java Developer-Machine Learning   \n",
       "12      Spark/Hadoop/Scala at Top Growth Stage Startup   \n",
       "13   Principal Software Engineer Lead Software Engi...   \n",
       "14                        Clinical Laboratory Surveyor   \n",
       "15                      Lead Bioinformatics Programmer   \n",
       "16                           Machine Learning Engineer   \n",
       "19                                   Program Assistant   \n",
       "23                         Inside Sales Representative   \n",
       "24                       Web Security Research Analyst   \n",
       "25                                 Lead Data Scientist   \n",
       "26                               Senior Data Scientist   \n",
       "27                     Associate Director of Analytics   \n",
       "28                         Senior Data Science Manager   \n",
       "29   City Research Scientist Bureau of the Public H...   \n",
       "31                                    Health Scientist   \n",
       "32                                Technical Researcher   \n",
       "33                    Senior Data Scientist - Bio-tech   \n",
       "34   Quantitative Research Analyst for Multi-Billio...   \n",
       "35                           Machine Learning Engineer   \n",
       "36                       FTR Quantitative Risk Analyst   \n",
       "37         Senior Statistician for Fortune 500 Company   \n",
       "251                Genetic Counselor Clinical Genomics   \n",
       "747                      Quantitative Research Analyst   \n",
       "748             CLS Certifying Scientist (Toxicologist   \n",
       "749                          Lead Quantitative Analyst   \n",
       "750                    Assistant Director Data Science   \n",
       "751                           Clinical User Operations   \n",
       "752                          Variant Scientist (Remote   \n",
       "\n",
       "                                               company  final_salary  \\\n",
       "0                              ALC Staffing Associates       72500.0   \n",
       "1                                        Alexander Bec       75000.0   \n",
       "3                     Infotek Consulting Services Inc.      105000.0   \n",
       "5                                     The Bivium Group      102500.0   \n",
       "7                                    SearchBankingJobs      177500.0   \n",
       "9                                         BioPier Inc.       90000.0   \n",
       "11                                  Jobspring Partners      130000.0   \n",
       "12                               Workbridge Associates      132500.0   \n",
       "13                                    The Bivium Group      142500.0   \n",
       "14                       Commonwealth of Massachusetts       73570.5   \n",
       "15                          Baylor College of Medicine       90000.0   \n",
       "16                                 NRS Global Partners      107500.0   \n",
       "19                       Union of Concerned Scientists       35000.0   \n",
       "23                                          PayFactors       80000.0   \n",
       "24                                            SiteLock       52500.0   \n",
       "25                                 Analytic Recruiting      140000.0   \n",
       "26                                      Selby Jennings      150000.0   \n",
       "27                               Workbridge Associates      150000.0   \n",
       "28                                             Harnham      185000.0   \n",
       "29                       DEPT OF HEALTH/MENTAL HYGIENE       65977.0   \n",
       "31           Centers for Disease Control and Preven...      117437.5   \n",
       "32                      HOUSING PRESERVATION & DVLPMNT       70286.0   \n",
       "33                                             Harnham      170000.0   \n",
       "34                                             Averity      175000.0   \n",
       "35                               Workbridge Associates      125000.0   \n",
       "36                                      Selby Jennings      135000.0   \n",
       "37                                             Averity      110000.0   \n",
       "251                              Lighthouse Recruiting       95000.0   \n",
       "747                         Liberty Personnel Services      140000.0   \n",
       "748                              Lighthouse Recruiting       75000.0   \n",
       "749                                  SearchBankingJobs      177500.0   \n",
       "750                                     Liberty Mutual      118000.0   \n",
       "751                                     Quartet Health       50000.0   \n",
       "752                              Lighthouse Recruiting       95000.0   \n",
       "\n",
       "     high_or_low  senior_variable  \n",
       "0              0                0  \n",
       "1              0                0  \n",
       "3              0                0  \n",
       "5              0                0  \n",
       "7              1                0  \n",
       "9              0                0  \n",
       "11             1                0  \n",
       "12             1                0  \n",
       "13             1                0  \n",
       "14             0                0  \n",
       "15             0                0  \n",
       "16             0                0  \n",
       "19             0                0  \n",
       "23             0                0  \n",
       "24             0                0  \n",
       "25             1                0  \n",
       "26             1                1  \n",
       "27             1                0  \n",
       "28             1                1  \n",
       "29             0                0  \n",
       "31             1                0  \n",
       "32             0                0  \n",
       "33             1                1  \n",
       "34             1                0  \n",
       "35             1                0  \n",
       "36             1                0  \n",
       "37             1                1  \n",
       "251            0                0  \n",
       "747            1                0  \n",
       "748            0                0  \n",
       "749            1                0  \n",
       "750            1                0  \n",
       "751            0                0  \n",
       "752            0                0  "
      ]
     },
     "execution_count": 526,
     "metadata": {},
     "output_type": "execute_result"
    }
   ],
   "source": [
    "jobs_with_seniors"
   ]
  },
  {
   "cell_type": "code",
   "execution_count": 606,
   "metadata": {
    "collapsed": true
   },
   "outputs": [],
   "source": [
    "X_2 = jobs_with_seniors.drop(jobs_with_seniors[[0,1,2,3,4]], axis=1)\n",
    "y_2 = jobs_with_seniors.high_or_low"
   ]
  },
  {
   "cell_type": "code",
   "execution_count": 624,
   "metadata": {
    "collapsed": false,
    "scrolled": true
   },
   "outputs": [
    {
     "data": {
      "text/plain": [
       "RandomForestClassifier(bootstrap=True, class_weight=None, criterion='gini',\n",
       "            max_depth=None, max_features='auto', max_leaf_nodes=None,\n",
       "            min_samples_leaf=1, min_samples_split=2,\n",
       "            min_weight_fraction_leaf=0.0, n_estimators=10, n_jobs=1,\n",
       "            oob_score=False, random_state=None, verbose=0,\n",
       "            warm_start=False)"
      ]
     },
     "execution_count": 624,
     "metadata": {},
     "output_type": "execute_result"
    }
   ],
   "source": [
    "rfc.fit(X_train,y_train)"
   ]
  },
  {
   "cell_type": "code",
   "execution_count": 625,
   "metadata": {
    "collapsed": false
   },
   "outputs": [
    {
     "data": {
      "text/plain": [
       "0.6470588235294118"
      ]
     },
     "execution_count": 625,
     "metadata": {},
     "output_type": "execute_result"
    }
   ],
   "source": [
    "rfc.score(X_train,y_train)"
   ]
  },
  {
   "cell_type": "code",
   "execution_count": null,
   "metadata": {
    "collapsed": true
   },
   "outputs": [],
   "source": [
    "#Not the most accurate for \"senior\" in job title, but could be because of the small size of sample"
   ]
  },
  {
   "cell_type": "code",
   "execution_count": 626,
   "metadata": {
    "collapsed": false,
    "scrolled": true
   },
   "outputs": [
    {
     "data": {
      "text/plain": [
       "array([ 0.57142857,  0.6       ,  0.6       ])"
      ]
     },
     "execution_count": 626,
     "metadata": {},
     "output_type": "execute_result"
    }
   ],
   "source": [
    "cross_val_score(rfc, X_train, y_train)"
   ]
  },
  {
   "cell_type": "code",
   "execution_count": null,
   "metadata": {
    "collapsed": true
   },
   "outputs": [],
   "source": [
    "# \"Senior\" not highly predictive of high salaries, at least from this dataset"
   ]
  },
  {
   "cell_type": "code",
   "execution_count": 671,
   "metadata": {
    "collapsed": false
   },
   "outputs": [
    {
     "data": {
      "text/plain": [
       "KNeighborsClassifier(algorithm='auto', leaf_size=30, metric='minkowski',\n",
       "           metric_params=None, n_jobs=1, n_neighbors=5, p=2,\n",
       "           weights='uniform')"
      ]
     },
     "execution_count": 671,
     "metadata": {},
     "output_type": "execute_result"
    }
   ],
   "source": [
    "knn.fit(X_train,y_train)"
   ]
  },
  {
   "cell_type": "code",
   "execution_count": 672,
   "metadata": {
    "collapsed": false
   },
   "outputs": [
    {
     "data": {
      "text/plain": [
       "0.58823529411764708"
      ]
     },
     "execution_count": 672,
     "metadata": {},
     "output_type": "execute_result"
    }
   ],
   "source": [
    "knn.score(X_train,y_train)"
   ]
  },
  {
   "cell_type": "code",
   "execution_count": 630,
   "metadata": {
    "collapsed": false
   },
   "outputs": [
    {
     "data": {
      "text/plain": [
       "array([ 0.57142857,  0.6       ,  0.6       ])"
      ]
     },
     "execution_count": 630,
     "metadata": {},
     "output_type": "execute_result"
    }
   ],
   "source": [
    "cross_val_score(knn, X_train, y_train)"
   ]
  },
  {
   "cell_type": "code",
   "execution_count": 597,
   "metadata": {
    "collapsed": true
   },
   "outputs": [],
   "source": [
    "# Saw a few high salaries with \"Quantitative\" in there--should test for that "
   ]
  },
  {
   "cell_type": "code",
   "execution_count": 598,
   "metadata": {
    "collapsed": true
   },
   "outputs": [],
   "source": [
    "quant_variable = jobs['title'].map(lambda x: 1 if 'Quantitative' in x else 0)  "
   ]
  },
  {
   "cell_type": "code",
   "execution_count": 600,
   "metadata": {
    "collapsed": true
   },
   "outputs": [],
   "source": [
    "quant_variable = pd.DataFrame(quant_variable)\n",
    "quant_variable = quant_variable.rename(columns = {'title':'quant_variable'})"
   ]
  },
  {
   "cell_type": "code",
   "execution_count": 601,
   "metadata": {
    "collapsed": true
   },
   "outputs": [],
   "source": [
    "jobs_with_quant = pd.concat([jobs, quant_variable], axis=1) "
   ]
  },
  {
   "cell_type": "code",
   "execution_count": 31,
   "metadata": {
    "collapsed": false
   },
   "outputs": [
    {
     "ename": "NameError",
     "evalue": "name 'jobs_with_quant' is not defined",
     "output_type": "error",
     "traceback": [
      "\u001b[0;31m---------------------------------------------------------------------------\u001b[0m",
      "\u001b[0;31mNameError\u001b[0m                                 Traceback (most recent call last)",
      "\u001b[0;32m<ipython-input-31-5b10fc4b9039>\u001b[0m in \u001b[0;36m<module>\u001b[0;34m()\u001b[0m\n\u001b[0;32m----> 1\u001b[0;31m \u001b[0mX_3\u001b[0m \u001b[0;34m=\u001b[0m \u001b[0mjobs_with_quant\u001b[0m\u001b[0;34m.\u001b[0m\u001b[0mquant_variable\u001b[0m\u001b[0;34m\u001b[0m\u001b[0m\n\u001b[0m\u001b[1;32m      2\u001b[0m \u001b[0my_3\u001b[0m \u001b[0;34m=\u001b[0m \u001b[0mjobs_with_quant\u001b[0m\u001b[0;34m.\u001b[0m\u001b[0mhigh_or_low\u001b[0m\u001b[0;34m\u001b[0m\u001b[0m\n",
      "\u001b[0;31mNameError\u001b[0m: name 'jobs_with_quant' is not defined"
     ]
    }
   ],
   "source": [
    "X_3 = jobs_with_quant.quant_variable\n",
    "y_3 = jobs_with_quant.high_or_low"
   ]
  },
  {
   "cell_type": "code",
   "execution_count": 673,
   "metadata": {
    "collapsed": true
   },
   "outputs": [],
   "source": [
    "X_train, X_test, y_train, y_test = train_test_split(X_3, y_3, test_size=0.5, random_state=50)"
   ]
  },
  {
   "cell_type": "code",
   "execution_count": 674,
   "metadata": {
    "collapsed": false
   },
   "outputs": [
    {
     "data": {
      "text/plain": [
       "RandomForestClassifier(bootstrap=True, class_weight=None, criterion='gini',\n",
       "            max_depth=None, max_features='auto', max_leaf_nodes=None,\n",
       "            min_samples_leaf=1, min_samples_split=2,\n",
       "            min_weight_fraction_leaf=0.0, n_estimators=10, n_jobs=1,\n",
       "            oob_score=False, random_state=None, verbose=0,\n",
       "            warm_start=False)"
      ]
     },
     "execution_count": 674,
     "metadata": {},
     "output_type": "execute_result"
    }
   ],
   "source": [
    "rfc.fit(X_train,y_train)"
   ]
  },
  {
   "cell_type": "code",
   "execution_count": 609,
   "metadata": {
    "collapsed": false
   },
   "outputs": [
    {
     "data": {
      "text/plain": [
       "0.58823529411764708"
      ]
     },
     "execution_count": 609,
     "metadata": {},
     "output_type": "execute_result"
    }
   ],
   "source": [
    "rfc.score(X_train,y_train)"
   ]
  },
  {
   "cell_type": "code",
   "execution_count": 610,
   "metadata": {
    "collapsed": true
   },
   "outputs": [],
   "source": [
    "#Accuracy score likely lower than usual because of the limited sample from the scraping."
   ]
  },
  {
   "cell_type": "code",
   "execution_count": 611,
   "metadata": {
    "collapsed": false
   },
   "outputs": [
    {
     "data": {
      "text/plain": [
       "array([ 0.42857143,  0.6       ,  0.4       ])"
      ]
     },
     "execution_count": 611,
     "metadata": {},
     "output_type": "execute_result"
    }
   ],
   "source": [
    "cross_val_score(rfc, X_train,y_train)"
   ]
  },
  {
   "cell_type": "code",
   "execution_count": null,
   "metadata": {
    "collapsed": true
   },
   "outputs": [],
   "source": [
    "# Not predictive according to cross val score. "
   ]
  },
  {
   "cell_type": "code",
   "execution_count": 675,
   "metadata": {
    "collapsed": false
   },
   "outputs": [
    {
     "data": {
      "text/plain": [
       "KNeighborsClassifier(algorithm='auto', leaf_size=30, metric='minkowski',\n",
       "           metric_params=None, n_jobs=1, n_neighbors=5, p=2,\n",
       "           weights='uniform')"
      ]
     },
     "execution_count": 675,
     "metadata": {},
     "output_type": "execute_result"
    }
   ],
   "source": [
    "knn.fit(X_train,y_train)"
   ]
  },
  {
   "cell_type": "code",
   "execution_count": 676,
   "metadata": {
    "collapsed": false
   },
   "outputs": [
    {
     "data": {
      "text/plain": [
       "0.58823529411764708"
      ]
     },
     "execution_count": 676,
     "metadata": {},
     "output_type": "execute_result"
    }
   ],
   "source": [
    "knn.score(X_train,y_train)"
   ]
  },
  {
   "cell_type": "code",
   "execution_count": 677,
   "metadata": {
    "collapsed": false
   },
   "outputs": [
    {
     "data": {
      "text/plain": [
       "array([ 0.57142857,  0.6       ,  0.6       ])"
      ]
     },
     "execution_count": 677,
     "metadata": {},
     "output_type": "execute_result"
    }
   ],
   "source": [
    "cross_val_score(knn,X_train,y_train)"
   ]
  },
  {
   "cell_type": "markdown",
   "metadata": {
    "focus": false,
    "id": "9c9274ef-c9f5-4d56-b286-ecc8709eff9f"
   },
   "source": [
    "#### Rebuild this model with scikit-learn.\n",
    "- You can either create the dummy features manually or use the `dmatrix` function from `patsy`\n",
    "- Remember to scale the feature variables as well!\n"
   ]
  },
  {
   "cell_type": "code",
   "execution_count": 659,
   "metadata": {
    "collapsed": true
   },
   "outputs": [],
   "source": [
    "#I've already turned them to dummies, so I'm not sure scaling would be beneficial."
   ]
  },
  {
   "cell_type": "code",
   "execution_count": 476,
   "metadata": {
    "collapsed": false,
    "focus": false,
    "id": "b76f65cd-cd3a-4e91-af55-12880be7b057"
   },
   "outputs": [],
   "source": [
    "## YOUR CODE HERE"
   ]
  },
  {
   "cell_type": "markdown",
   "metadata": {
    "focus": false,
    "id": "9367beff-72ba-4768-a0ba-a50b335de61d"
   },
   "source": [
    "#### Use cross-validation in scikit-learn to evaluate the model above. \n",
    "- Evaluate the accuracy of the model. "
   ]
  },
  {
   "cell_type": "code",
   "execution_count": null,
   "metadata": {
    "collapsed": false,
    "focus": false,
    "id": "269b9e7c-60b5-4a06-8255-881d7395bc1b"
   },
   "outputs": [],
   "source": [
    "## YOUR CODE HERE"
   ]
  },
  {
   "cell_type": "markdown",
   "metadata": {},
   "source": [
    "#### Random Forest Regressor\n",
    "\n",
    "Let's try treating this as a regression problem. \n",
    "\n",
    "- Train a random forest regressor on the regression problem and predict your dependent.\n",
    "- Evaluate the score with a 5-fold cross-validation\n",
    "- Do a scatter plot of the predicted vs actual scores for each of the 5 folds, do they match?"
   ]
  },
  {
   "cell_type": "code",
   "execution_count": 635,
   "metadata": {
    "collapsed": false,
    "focus": false,
    "id": "56cc8854-d722-411d-a6c7-e86310710f67"
   },
   "outputs": [],
   "source": [
    "## YOUR CODE HERE\n",
    "from sklearn.ensemble import RandomForestRegressor\n",
    "rfr = RandomForestRegressor()"
   ]
  },
  {
   "cell_type": "code",
   "execution_count": null,
   "metadata": {
    "collapsed": true
   },
   "outputs": [],
   "source": [
    "#X_1, y_1: location; X_2, y_2: senior; X_3, y_3: quant"
   ]
  },
  {
   "cell_type": "code",
   "execution_count": 636,
   "metadata": {
    "collapsed": true
   },
   "outputs": [],
   "source": [
    "#First for location\n",
    "X_train, X_test, y_train, y_test = train_test_split(X_1, y_1, test_size=0.5, random_state=50)"
   ]
  },
  {
   "cell_type": "code",
   "execution_count": 637,
   "metadata": {
    "collapsed": false
   },
   "outputs": [
    {
     "data": {
      "text/plain": [
       "RandomForestRegressor(bootstrap=True, criterion='mse', max_depth=None,\n",
       "           max_features='auto', max_leaf_nodes=None, min_samples_leaf=1,\n",
       "           min_samples_split=2, min_weight_fraction_leaf=0.0,\n",
       "           n_estimators=10, n_jobs=1, oob_score=False, random_state=None,\n",
       "           verbose=0, warm_start=False)"
      ]
     },
     "execution_count": 637,
     "metadata": {},
     "output_type": "execute_result"
    }
   ],
   "source": [
    "rfr.fit(X_train,y_train)"
   ]
  },
  {
   "cell_type": "code",
   "execution_count": 665,
   "metadata": {
    "collapsed": false
   },
   "outputs": [],
   "source": [
    "import matplotlib.pyplot as plt"
   ]
  },
  {
   "cell_type": "code",
   "execution_count": 638,
   "metadata": {
    "collapsed": false,
    "scrolled": true
   },
   "outputs": [
    {
     "data": {
      "text/plain": [
       "0.59722817460317446"
      ]
     },
     "execution_count": 638,
     "metadata": {},
     "output_type": "execute_result"
    }
   ],
   "source": [
    "rfr.score(X_train,y_train)"
   ]
  },
  {
   "cell_type": "code",
   "execution_count": 639,
   "metadata": {
    "collapsed": true
   },
   "outputs": [],
   "source": [
    "#A slightly improved score from others."
   ]
  },
  {
   "cell_type": "code",
   "execution_count": 642,
   "metadata": {
    "collapsed": false,
    "scrolled": true
   },
   "outputs": [
    {
     "data": {
      "text/plain": [
       "array([-0.18777778, -0.4975    , -0.47893333, -0.66      , -0.32      ])"
      ]
     },
     "execution_count": 642,
     "metadata": {},
     "output_type": "execute_result"
    }
   ],
   "source": [
    "cross_val_score(rfr, X_train, y_train, cv=5, scoring='mean_squared_error')"
   ]
  },
  {
   "cell_type": "code",
   "execution_count": null,
   "metadata": {
    "collapsed": true
   },
   "outputs": [],
   "source": [
    "#All negative scores. "
   ]
  },
  {
   "cell_type": "code",
   "execution_count": 645,
   "metadata": {
    "collapsed": true
   },
   "outputs": [],
   "source": [
    "#Now for \"seniors\" "
   ]
  },
  {
   "cell_type": "code",
   "execution_count": 646,
   "metadata": {
    "collapsed": true
   },
   "outputs": [],
   "source": [
    "X_train, X_test, y_train, y_test = train_test_split(X_2, y_2, test_size=0.5, random_state=50)"
   ]
  },
  {
   "cell_type": "code",
   "execution_count": 647,
   "metadata": {
    "collapsed": false
   },
   "outputs": [
    {
     "data": {
      "text/plain": [
       "RandomForestRegressor(bootstrap=True, criterion='mse', max_depth=None,\n",
       "           max_features='auto', max_leaf_nodes=None, min_samples_leaf=1,\n",
       "           min_samples_split=2, min_weight_fraction_leaf=0.0,\n",
       "           n_estimators=10, n_jobs=1, oob_score=False, random_state=None,\n",
       "           verbose=0, warm_start=False)"
      ]
     },
     "execution_count": 647,
     "metadata": {},
     "output_type": "execute_result"
    }
   ],
   "source": [
    "rfr.fit(X_train,y_train)"
   ]
  },
  {
   "cell_type": "code",
   "execution_count": 648,
   "metadata": {
    "collapsed": false
   },
   "outputs": [
    {
     "data": {
      "text/plain": [
       "0.083613968253968163"
      ]
     },
     "execution_count": 648,
     "metadata": {},
     "output_type": "execute_result"
    }
   ],
   "source": [
    "rfr.score(X_train,y_train)"
   ]
  },
  {
   "cell_type": "code",
   "execution_count": 649,
   "metadata": {
    "collapsed": true
   },
   "outputs": [],
   "source": [
    "#Not accurate at all."
   ]
  },
  {
   "cell_type": "code",
   "execution_count": 650,
   "metadata": {
    "collapsed": false
   },
   "outputs": [
    {
     "data": {
      "text/plain": [
       "array([-0.1895362 , -0.26093463, -0.3225    , -0.3435363 , -0.21301775])"
      ]
     },
     "execution_count": 650,
     "metadata": {},
     "output_type": "execute_result"
    }
   ],
   "source": [
    "cross_val_score(rfr, X_train, y_train, cv=5, scoring='mean_squared_error')"
   ]
  },
  {
   "cell_type": "code",
   "execution_count": null,
   "metadata": {
    "collapsed": true
   },
   "outputs": [],
   "source": [
    "#Again, negative scores."
   ]
  },
  {
   "cell_type": "code",
   "execution_count": 651,
   "metadata": {
    "collapsed": true
   },
   "outputs": [],
   "source": [
    "#Maybe Quantitative could work."
   ]
  },
  {
   "cell_type": "code",
   "execution_count": 653,
   "metadata": {
    "collapsed": true
   },
   "outputs": [],
   "source": [
    "X_train, X_test, y_train, y_test = train_test_split(X_3, y_3, test_size=0.5, random_state=50)"
   ]
  },
  {
   "cell_type": "code",
   "execution_count": 654,
   "metadata": {
    "collapsed": false
   },
   "outputs": [
    {
     "data": {
      "text/plain": [
       "RandomForestRegressor(bootstrap=True, criterion='mse', max_depth=None,\n",
       "           max_features='auto', max_leaf_nodes=None, min_samples_leaf=1,\n",
       "           min_samples_split=2, min_weight_fraction_leaf=0.0,\n",
       "           n_estimators=10, n_jobs=1, oob_score=False, random_state=None,\n",
       "           verbose=0, warm_start=False)"
      ]
     },
     "execution_count": 654,
     "metadata": {},
     "output_type": "execute_result"
    }
   ],
   "source": [
    "rfr.fit(X_train,y_train)"
   ]
  },
  {
   "cell_type": "code",
   "execution_count": 655,
   "metadata": {
    "collapsed": false
   },
   "outputs": [
    {
     "data": {
      "text/plain": [
       "0.086571800833340373"
      ]
     },
     "execution_count": 655,
     "metadata": {},
     "output_type": "execute_result"
    }
   ],
   "source": [
    "rfr.score(X_train, y_train)"
   ]
  },
  {
   "cell_type": "code",
   "execution_count": 656,
   "metadata": {
    "collapsed": true
   },
   "outputs": [],
   "source": [
    "#Also very low. "
   ]
  },
  {
   "cell_type": "code",
   "execution_count": 657,
   "metadata": {
    "collapsed": false,
    "scrolled": true
   },
   "outputs": [
    {
     "data": {
      "text/plain": [
       "array([-0.26600446, -0.25525259, -0.29889602, -0.25791682, -0.3144752 ])"
      ]
     },
     "execution_count": 657,
     "metadata": {},
     "output_type": "execute_result"
    }
   ],
   "source": [
    "cross_val_score(rfr, X_train, y_train, cv=5, scoring='mean_squared_error')"
   ]
  }
 ],
 "metadata": {
  "anaconda-cloud": {},
  "kernelspec": {
   "display_name": "Python [default]",
   "language": "python",
   "name": "python2"
  },
  "language_info": {
   "codemirror_mode": {
    "name": "ipython",
    "version": 2
   },
   "file_extension": ".py",
   "mimetype": "text/x-python",
   "name": "python",
   "nbconvert_exporter": "python",
   "pygments_lexer": "ipython2",
   "version": "2.7.12"
  }
 },
 "nbformat": 4,
 "nbformat_minor": 0
}
